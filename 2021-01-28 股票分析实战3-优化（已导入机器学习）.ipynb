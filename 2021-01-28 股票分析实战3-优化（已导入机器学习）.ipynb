{
 "cells": [
  {
   "cell_type": "code",
   "execution_count": 26,
   "metadata": {},
   "outputs": [],
   "source": [
    "import tushare as ts\n",
    "import pandas as pd\n",
    "import numpy as np\n",
    "import matplotlib.pyplot as plt"
   ]
  },
  {
   "cell_type": "markdown",
   "metadata": {},
   "source": [
    "### 模块（一） 准备：输入股票代码，定义时间段"
   ]
  },
  {
   "cell_type": "code",
   "execution_count": 27,
   "metadata": {},
   "outputs": [
    {
     "name": "stdout",
     "output_type": "stream",
     "text": [
      "本接口即将停止更新，请尽快使用Pro版接口：https://waditu.com/document/2\n"
     ]
    }
   ],
   "source": [
    "df = ts.get_k_data('600519',start='2001-01-01')"
   ]
  },
  {
   "cell_type": "markdown",
   "metadata": {},
   "source": [
    "### 根据股票名字更改excel文件名\n",
    " - 参考名称（./xxx.csv）"
   ]
  },
  {
   "cell_type": "code",
   "execution_count": 28,
   "metadata": {},
   "outputs": [
    {
     "data": {
      "text/html": [
       "<div>\n",
       "<style scoped>\n",
       "    .dataframe tbody tr th:only-of-type {\n",
       "        vertical-align: middle;\n",
       "    }\n",
       "\n",
       "    .dataframe tbody tr th {\n",
       "        vertical-align: top;\n",
       "    }\n",
       "\n",
       "    .dataframe thead th {\n",
       "        text-align: right;\n",
       "    }\n",
       "</style>\n",
       "<table border=\"1\" class=\"dataframe\">\n",
       "  <thead>\n",
       "    <tr style=\"text-align: right;\">\n",
       "      <th></th>\n",
       "      <th>Unnamed: 0</th>\n",
       "      <th>date</th>\n",
       "      <th>open</th>\n",
       "      <th>close</th>\n",
       "      <th>high</th>\n",
       "      <th>low</th>\n",
       "      <th>volume</th>\n",
       "      <th>code</th>\n",
       "    </tr>\n",
       "  </thead>\n",
       "  <tbody>\n",
       "    <tr>\n",
       "      <th>0</th>\n",
       "      <td>0</td>\n",
       "      <td>2001-08-27</td>\n",
       "      <td>5.392</td>\n",
       "      <td>5.554</td>\n",
       "      <td>5.902</td>\n",
       "      <td>5.132</td>\n",
       "      <td>406318.00</td>\n",
       "      <td>600519</td>\n",
       "    </tr>\n",
       "    <tr>\n",
       "      <th>1</th>\n",
       "      <td>1</td>\n",
       "      <td>2001-08-28</td>\n",
       "      <td>5.467</td>\n",
       "      <td>5.759</td>\n",
       "      <td>5.781</td>\n",
       "      <td>5.407</td>\n",
       "      <td>129647.79</td>\n",
       "      <td>600519</td>\n",
       "    </tr>\n",
       "    <tr>\n",
       "      <th>2</th>\n",
       "      <td>2</td>\n",
       "      <td>2001-08-29</td>\n",
       "      <td>5.777</td>\n",
       "      <td>5.684</td>\n",
       "      <td>5.781</td>\n",
       "      <td>5.640</td>\n",
       "      <td>53252.75</td>\n",
       "      <td>600519</td>\n",
       "    </tr>\n",
       "    <tr>\n",
       "      <th>3</th>\n",
       "      <td>3</td>\n",
       "      <td>2001-08-30</td>\n",
       "      <td>5.668</td>\n",
       "      <td>5.796</td>\n",
       "      <td>5.860</td>\n",
       "      <td>5.624</td>\n",
       "      <td>48013.06</td>\n",
       "      <td>600519</td>\n",
       "    </tr>\n",
       "    <tr>\n",
       "      <th>4</th>\n",
       "      <td>4</td>\n",
       "      <td>2001-08-31</td>\n",
       "      <td>5.804</td>\n",
       "      <td>5.782</td>\n",
       "      <td>5.877</td>\n",
       "      <td>5.749</td>\n",
       "      <td>23231.48</td>\n",
       "      <td>600519</td>\n",
       "    </tr>\n",
       "  </tbody>\n",
       "</table>\n",
       "</div>"
      ],
      "text/plain": [
       "   Unnamed: 0        date   open  close   high    low     volume    code\n",
       "0           0  2001-08-27  5.392  5.554  5.902  5.132  406318.00  600519\n",
       "1           1  2001-08-28  5.467  5.759  5.781  5.407  129647.79  600519\n",
       "2           2  2001-08-29  5.777  5.684  5.781  5.640   53252.75  600519\n",
       "3           3  2001-08-30  5.668  5.796  5.860  5.624   48013.06  600519\n",
       "4           4  2001-08-31  5.804  5.782  5.877  5.749   23231.48  600519"
      ]
     },
     "execution_count": 28,
     "metadata": {},
     "output_type": "execute_result"
    }
   ],
   "source": [
    "df.to_csv('./maotai.csv')\n",
    "df = pd.read_csv('./maotai.csv')\n",
    "df.head()"
   ]
  },
  {
   "cell_type": "markdown",
   "metadata": {},
   "source": [
    "### 导入机器学习模型分析"
   ]
  },
  {
   "cell_type": "code",
   "execution_count": 29,
   "metadata": {},
   "outputs": [
    {
     "data": {
      "text/html": [
       "<div>\n",
       "<style scoped>\n",
       "    .dataframe tbody tr th:only-of-type {\n",
       "        vertical-align: middle;\n",
       "    }\n",
       "\n",
       "    .dataframe tbody tr th {\n",
       "        vertical-align: top;\n",
       "    }\n",
       "\n",
       "    .dataframe thead th {\n",
       "        text-align: right;\n",
       "    }\n",
       "</style>\n",
       "<table border=\"1\" class=\"dataframe\">\n",
       "  <thead>\n",
       "    <tr style=\"text-align: right;\">\n",
       "      <th></th>\n",
       "      <th>open</th>\n",
       "      <th>high</th>\n",
       "      <th>low</th>\n",
       "      <th>volume</th>\n",
       "      <th>colse</th>\n",
       "    </tr>\n",
       "  </thead>\n",
       "  <tbody>\n",
       "    <tr>\n",
       "      <th>0</th>\n",
       "      <td>5.392</td>\n",
       "      <td>5.902</td>\n",
       "      <td>5.132</td>\n",
       "      <td>406318.00</td>\n",
       "      <td>5.554</td>\n",
       "    </tr>\n",
       "    <tr>\n",
       "      <th>1</th>\n",
       "      <td>5.467</td>\n",
       "      <td>5.781</td>\n",
       "      <td>5.407</td>\n",
       "      <td>129647.79</td>\n",
       "      <td>5.759</td>\n",
       "    </tr>\n",
       "    <tr>\n",
       "      <th>2</th>\n",
       "      <td>5.777</td>\n",
       "      <td>5.781</td>\n",
       "      <td>5.640</td>\n",
       "      <td>53252.75</td>\n",
       "      <td>5.684</td>\n",
       "    </tr>\n",
       "    <tr>\n",
       "      <th>3</th>\n",
       "      <td>5.668</td>\n",
       "      <td>5.860</td>\n",
       "      <td>5.624</td>\n",
       "      <td>48013.06</td>\n",
       "      <td>5.796</td>\n",
       "    </tr>\n",
       "    <tr>\n",
       "      <th>4</th>\n",
       "      <td>5.804</td>\n",
       "      <td>5.877</td>\n",
       "      <td>5.749</td>\n",
       "      <td>23231.48</td>\n",
       "      <td>5.782</td>\n",
       "    </tr>\n",
       "  </tbody>\n",
       "</table>\n",
       "</div>"
      ],
      "text/plain": [
       "    open   high    low     volume  colse\n",
       "0  5.392  5.902  5.132  406318.00  5.554\n",
       "1  5.467  5.781  5.407  129647.79  5.759\n",
       "2  5.777  5.781  5.640   53252.75  5.684\n",
       "3  5.668  5.860  5.624   48013.06  5.796\n",
       "4  5.804  5.877  5.749   23231.48  5.782"
      ]
     },
     "execution_count": 29,
     "metadata": {},
     "output_type": "execute_result"
    }
   ],
   "source": [
    "#数据处理\n",
    "close_data = df.pop('close')\n",
    "df.insert(6,'colse',close_data)\n",
    "#删除df中指定一列的数据\n",
    "#inplace=True覆盖原数据\n",
    "df.drop(labels='Unnamed: 0',axis=1,inplace=True)\n",
    "df.drop(labels='date',axis=1,inplace=True)\n",
    "df.drop(labels='code',axis=1,inplace=True)\n",
    "df.head()"
   ]
  },
  {
   "cell_type": "code",
   "execution_count": 30,
   "metadata": {},
   "outputs": [],
   "source": [
    "from sklearn import linear_model"
   ]
  },
  {
   "cell_type": "code",
   "execution_count": 31,
   "metadata": {},
   "outputs": [],
   "source": [
    "new_df = df.values\n",
    "x_data = new_df[:,0:4]\n",
    "y_data = new_df[:,4]"
   ]
  },
  {
   "cell_type": "code",
   "execution_count": 32,
   "metadata": {},
   "outputs": [
    {
     "name": "stdout",
     "output_type": "stream",
     "text": [
      "4867.829342019478\n",
      "[3.18967314e-01 3.45418688e-01 3.15060653e-01 9.11702875e-05]\n"
     ]
    }
   ],
   "source": [
    "model = linear_model.ElasticNetCV()\n",
    "model.fit(x_data,y_data)\n",
    "\n",
    "print(model.alpha_)\n",
    "print(model.coef_)"
   ]
  },
  {
   "cell_type": "code",
   "execution_count": 34,
   "metadata": {},
   "outputs": [
    {
     "name": "stdout",
     "output_type": "stream",
     "text": [
      "total data number: 4639\n",
      "predict value： [7.32059822]\n",
      "real value:  4.107\n"
     ]
    }
   ],
   "source": [
    "print('total data number:',len(x_data))\n",
    "print('predict value：',model.predict(x_data[500,np.newaxis]))\n",
    "print('real value: ',y_data[500])"
   ]
  },
  {
   "cell_type": "markdown",
   "metadata": {},
   "source": [
    "### 模块（二） 准备：输入股票代码，定义时间段"
   ]
  },
  {
   "cell_type": "code",
   "execution_count": 12,
   "metadata": {},
   "outputs": [
    {
     "name": "stdout",
     "output_type": "stream",
     "text": [
      "本接口即将停止更新，请尽快使用Pro版接口：https://waditu.com/document/2\n"
     ]
    }
   ],
   "source": [
    "df = ts.get_k_data('600519',start='2001-01-01')"
   ]
  },
  {
   "cell_type": "markdown",
   "metadata": {},
   "source": [
    "### 根据股票名字更改excel文件名\n",
    " - 参考名称（./xxx.csv）"
   ]
  },
  {
   "cell_type": "code",
   "execution_count": 13,
   "metadata": {},
   "outputs": [
    {
     "data": {
      "text/html": [
       "<div>\n",
       "<style scoped>\n",
       "    .dataframe tbody tr th:only-of-type {\n",
       "        vertical-align: middle;\n",
       "    }\n",
       "\n",
       "    .dataframe tbody tr th {\n",
       "        vertical-align: top;\n",
       "    }\n",
       "\n",
       "    .dataframe thead th {\n",
       "        text-align: right;\n",
       "    }\n",
       "</style>\n",
       "<table border=\"1\" class=\"dataframe\">\n",
       "  <thead>\n",
       "    <tr style=\"text-align: right;\">\n",
       "      <th></th>\n",
       "      <th>Unnamed: 0</th>\n",
       "      <th>open</th>\n",
       "      <th>close</th>\n",
       "      <th>high</th>\n",
       "      <th>low</th>\n",
       "      <th>volume</th>\n",
       "      <th>code</th>\n",
       "    </tr>\n",
       "    <tr>\n",
       "      <th>date</th>\n",
       "      <th></th>\n",
       "      <th></th>\n",
       "      <th></th>\n",
       "      <th></th>\n",
       "      <th></th>\n",
       "      <th></th>\n",
       "      <th></th>\n",
       "    </tr>\n",
       "  </thead>\n",
       "  <tbody>\n",
       "    <tr>\n",
       "      <th>2001-08-27</th>\n",
       "      <td>0</td>\n",
       "      <td>5.392</td>\n",
       "      <td>5.554</td>\n",
       "      <td>5.902</td>\n",
       "      <td>5.132</td>\n",
       "      <td>406318.00</td>\n",
       "      <td>600519</td>\n",
       "    </tr>\n",
       "    <tr>\n",
       "      <th>2001-08-28</th>\n",
       "      <td>1</td>\n",
       "      <td>5.467</td>\n",
       "      <td>5.759</td>\n",
       "      <td>5.781</td>\n",
       "      <td>5.407</td>\n",
       "      <td>129647.79</td>\n",
       "      <td>600519</td>\n",
       "    </tr>\n",
       "    <tr>\n",
       "      <th>2001-08-29</th>\n",
       "      <td>2</td>\n",
       "      <td>5.777</td>\n",
       "      <td>5.684</td>\n",
       "      <td>5.781</td>\n",
       "      <td>5.640</td>\n",
       "      <td>53252.75</td>\n",
       "      <td>600519</td>\n",
       "    </tr>\n",
       "    <tr>\n",
       "      <th>2001-08-30</th>\n",
       "      <td>3</td>\n",
       "      <td>5.668</td>\n",
       "      <td>5.796</td>\n",
       "      <td>5.860</td>\n",
       "      <td>5.624</td>\n",
       "      <td>48013.06</td>\n",
       "      <td>600519</td>\n",
       "    </tr>\n",
       "    <tr>\n",
       "      <th>2001-08-31</th>\n",
       "      <td>4</td>\n",
       "      <td>5.804</td>\n",
       "      <td>5.782</td>\n",
       "      <td>5.877</td>\n",
       "      <td>5.749</td>\n",
       "      <td>23231.48</td>\n",
       "      <td>600519</td>\n",
       "    </tr>\n",
       "  </tbody>\n",
       "</table>\n",
       "</div>"
      ],
      "text/plain": [
       "            Unnamed: 0   open  close   high    low     volume    code\n",
       "date                                                                 \n",
       "2001-08-27           0  5.392  5.554  5.902  5.132  406318.00  600519\n",
       "2001-08-28           1  5.467  5.759  5.781  5.407  129647.79  600519\n",
       "2001-08-29           2  5.777  5.684  5.781  5.640   53252.75  600519\n",
       "2001-08-30           3  5.668  5.796  5.860  5.624   48013.06  600519\n",
       "2001-08-31           4  5.804  5.782  5.877  5.749   23231.48  600519"
      ]
     },
     "execution_count": 13,
     "metadata": {},
     "output_type": "execute_result"
    }
   ],
   "source": [
    "df.to_csv('./maotai2.csv')\n",
    "df = pd.read_csv('./maotai2.csv')\n",
    "\n",
    "#将date列转为时间序列类型\n",
    "df['date']=pd.to_datetime(df['date'])\n",
    "\n",
    "#将date列作为原数据的行索引\n",
    "df.set_index('date',inplace=True)\n",
    "df.head()"
   ]
  },
  {
   "cell_type": "markdown",
   "metadata": {},
   "source": [
    "### 功能1-1：输出该股票所有收盘比开盘上涨n%以上的日期\n",
    " - n可以在等式中自定义（案例中：n=3%）"
   ]
  },
  {
   "cell_type": "code",
   "execution_count": 14,
   "metadata": {},
   "outputs": [
    {
     "data": {
      "text/plain": [
       "DatetimeIndex(['2001-10-10', '2001-11-07', '2001-11-16', '2001-12-20',\n",
       "               '2002-01-04', '2002-01-17', '2002-01-28', '2002-04-17',\n",
       "               '2002-11-08', '2003-01-02',\n",
       "               ...\n",
       "               '2018-10-23', '2019-07-03', '2019-09-11', '2019-11-29',\n",
       "               '2020-01-03', '2020-03-16', '2020-03-18', '2020-07-16',\n",
       "               '2020-07-24', '2021-01-19'],\n",
       "              dtype='datetime64[ns]', name='date', length=170, freq=None)"
      ]
     },
     "execution_count": 14,
     "metadata": {},
     "output_type": "execute_result"
    }
   ],
   "source": [
    "df.loc[(df['open']-df['close'])/ df['open'] > 0.03].index"
   ]
  },
  {
   "cell_type": "markdown",
   "metadata": {},
   "source": [
    "### 功能1-2：输出该股票所有开盘比前日收盘跌幅超过n%以上的日期\n",
    " - n可以在等式中自定义（案例中：n=2%）"
   ]
  },
  {
   "cell_type": "code",
   "execution_count": 15,
   "metadata": {},
   "outputs": [
    {
     "data": {
      "text/plain": [
       "DatetimeIndex(['2001-08-28', '2001-08-29', '2001-08-30', '2001-08-31',\n",
       "               '2001-09-03', '2001-09-04', '2001-09-05', '2001-09-06',\n",
       "               '2001-09-07', '2001-09-10',\n",
       "               ...\n",
       "               '2021-01-14', '2021-01-15', '2021-01-18', '2021-01-19',\n",
       "               '2021-01-20', '2021-01-21', '2021-01-22', '2021-01-25',\n",
       "               '2021-01-26', '2021-01-27'],\n",
       "              dtype='datetime64[ns]', name='date', length=4569, freq=None)"
      ]
     },
     "execution_count": 15,
     "metadata": {},
     "output_type": "execute_result"
    }
   ],
   "source": [
    "df.loc[(df['open']-df['close'].shift(1))/ df['close'] < 0.02].index"
   ]
  },
  {
   "cell_type": "markdown",
   "metadata": {},
   "source": [
    "### 功能1-3：查询某时间段开始，以起始年开盘价购入股票，以结束年末尾卖出股票的损益率\n",
    " - 准备：输入年份，例：xx年01月-xx年12月"
   ]
  },
  {
   "cell_type": "code",
   "execution_count": 16,
   "metadata": {},
   "outputs": [],
   "source": [
    "new_df = df['2020-01':'2020-12']\n",
    "df_yearlyBegin = new_df.resample('A').first()\n",
    "df_yearlyEnd = new_df.resample('A').last()"
   ]
  },
  {
   "cell_type": "code",
   "execution_count": 17,
   "metadata": {},
   "outputs": [
    {
     "name": "stdout",
     "output_type": "stream",
     "text": [
      "0.7712765957446809\n"
     ]
    }
   ],
   "source": [
    "cost = df_yearlyBegin['open'].sum()   \n",
    "resv = df_yearlyEnd['close'].sum()\n",
    "\n",
    "profit_margin = (resv - cost)/cost\n",
    "print(profit_margin)"
   ]
  },
  {
   "cell_type": "markdown",
   "metadata": {},
   "source": [
    "### 功能2-1：绘制5日均线（MA5）和30日均线（30A）"
   ]
  },
  {
   "cell_type": "code",
   "execution_count": 18,
   "metadata": {},
   "outputs": [
    {
     "data": {
      "image/png": "[encoded data removed]",
      "text/plain": [
       "<Figure size 576x360 with 1 Axes>"
      ]
     },
     "metadata": {
      "needs_background": "light"
     },
     "output_type": "display_data"
    }
   ],
   "source": [
    "ma5 = df['close'].rolling(5).mean()\n",
    "ma30 = df['close'].rolling(30).mean()\n",
    "plt.figure(figsize=(8,5))\n",
    "plt.plot(ma5,c='r')\n",
    "plt.plot(ma30,c='y')\n",
    "plt.show()"
   ]
  },
  {
   "cell_type": "markdown",
   "metadata": {},
   "source": [
    "### 功能2-1-1放大时间段观察"
   ]
  },
  {
   "cell_type": "code",
   "execution_count": 19,
   "metadata": {},
   "outputs": [
    {
     "name": "stdout",
     "output_type": "stream",
     "text": [
      "4639\n",
      "4639\n"
     ]
    },
    {
     "data": {
      "image/png": "[encoded data removed]",
      "text/plain": [
       "<Figure size 432x288 with 1 Axes>"
      ]
     },
     "metadata": {
      "needs_background": "light"
     },
     "output_type": "display_data"
    }
   ],
   "source": [
    "print(len(ma5))\n",
    "print(len(ma30))\n",
    "plt.plot(ma5[50:180],c='r')\n",
    "plt.plot(ma30[50:180],c='y')\n",
    "plt.show()"
   ]
  },
  {
   "cell_type": "markdown",
   "metadata": {},
   "source": [
    "### 功能3-1找出股票中金叉和死叉的时间点"
   ]
  },
  {
   "cell_type": "code",
   "execution_count": 20,
   "metadata": {},
   "outputs": [],
   "source": [
    "ma5 = ma5[30:]\n",
    "ma30= ma30[30:]\n",
    "s1 = ma5 < ma30\n",
    "s2 = ma5 > ma30"
   ]
  },
  {
   "cell_type": "code",
   "execution_count": 21,
   "metadata": {},
   "outputs": [],
   "source": [
    "#死叉\n",
    "death_ex = s1 & s2.shift(1)\n",
    "death_date = df[30:].loc[death_ex].index \n",
    "#金叉\n",
    "golden_ex = -(s1 | s2.shift(1))\n",
    "golden_date = df[30:].loc[golden_ex].index"
   ]
  },
  {
   "cell_type": "markdown",
   "metadata": {},
   "source": [
    "### 功能3-2 查询从某年年初，初始资金为n元，金叉买入，死叉卖出的收益率"
   ]
  },
  {
   "cell_type": "code",
   "execution_count": 22,
   "metadata": {},
   "outputs": [],
   "source": [
    "#1作为金叉的标识\n",
    "#0作为死叉的标识\n",
    "s1 = pd.Series(data=1,index=golden_date) \n",
    "s2 = pd.Series(data=0,index=death_date) \n",
    "s = s1.append(s2)\n",
    "#存储金叉和死叉的时间并按时间排序 \n",
    "s = s.sort_index() \n",
    "s = s['2020-01':'2020-12']"
   ]
  },
  {
   "cell_type": "code",
   "execution_count": 23,
   "metadata": {},
   "outputs": [
    {
     "name": "stdout",
     "output_type": "stream",
     "text": [
      "principle：5000000\n",
      "profit amount: 2758091.0\n",
      "profit margin: 0.5516182\n"
     ]
    }
   ],
   "source": [
    "first_money = int(input('principle：'))\n",
    "money = first_money \n",
    "hold = 0 #初始持有股数\n",
    "\n",
    "for i in range(0,len(s)):\n",
    "    if s[i] == 1:\n",
    "        time = s.index[i]\n",
    "        p = df.loc[time]['open']\n",
    "        hand_count = money // (p*100)  \n",
    "        hold = hand_count * 100\n",
    "        money -= (hold * p) \n",
    "    else:\n",
    "        death_time = s.index[i]\n",
    "        p_death = df.loc[death_time]['open']\n",
    "        money += (p_death * hold) \n",
    "        hold = 0\n",
    "\n",
    "#如何判定最后一天为金叉或死叉\n",
    "#直接判定hold是否=0就行了\n",
    "#hold * 最后一天的收盘价\n",
    "last_money = hold * df['close'][-1]\n",
    "\n",
    "#总收益\n",
    "print('profit amount:',money + last_money - first_money)\n",
    "print('profit margin:',(money + last_money - first_money)/first_money)"
   ]
  },
  {
   "cell_type": "code",
   "execution_count": null,
   "metadata": {},
   "outputs": [],
   "source": []
  },
  {
   "cell_type": "code",
   "execution_count": null,
   "metadata": {},
   "outputs": [],
   "source": []
  }
 ],
 "metadata": {
  "kernelspec": {
   "display_name": "Python 3",
   "language": "python",
   "name": "python3"
  },
  "language_info": {
   "codemirror_mode": {
    "name": "ipython",
    "version": 3
   },
   "file_extension": ".py",
   "mimetype": "text/x-python",
   "name": "python",
   "nbconvert_exporter": "python",
   "pygments_lexer": "ipython3",
   "version": "3.8.5"
  }
 },
 "nbformat": 4,
 "nbformat_minor": 4
}
