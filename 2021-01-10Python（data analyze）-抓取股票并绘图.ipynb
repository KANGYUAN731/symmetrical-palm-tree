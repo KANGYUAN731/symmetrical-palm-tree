{
 "cells": [
  {
   "cell_type": "code",
   "execution_count": 1,
   "metadata": {},
   "outputs": [],
   "source": [
    "import pandas as pd "
   ]
  },
  {
   "cell_type": "code",
   "execution_count": 94,
   "metadata": {},
   "outputs": [],
   "source": [
    "from pandas_datareader import data   \n",
    "kangyuanDict = {\"特斯拉\":\"TSLA\",\"达乐\":\"DG\",\"苹果\":\"AAPL\"}\n",
    "start_date = \"2019-12-31\"\n",
    "end_date = \"2021-01-01\""
   ]
  },
  {
   "cell_type": "code",
   "execution_count": 95,
   "metadata": {},
   "outputs": [
    {
     "data": {
      "text/html": [
       "<div>\n",
       "<style scoped>\n",
       "    .dataframe tbody tr th:only-of-type {\n",
       "        vertical-align: middle;\n",
       "    }\n",
       "\n",
       "    .dataframe tbody tr th {\n",
       "        vertical-align: top;\n",
       "    }\n",
       "\n",
       "    .dataframe thead th {\n",
       "        text-align: right;\n",
       "    }\n",
       "</style>\n",
       "<table border=\"1\" class=\"dataframe\">\n",
       "  <thead>\n",
       "    <tr style=\"text-align: right;\">\n",
       "      <th></th>\n",
       "      <th>High</th>\n",
       "      <th>Low</th>\n",
       "      <th>Open</th>\n",
       "      <th>Close</th>\n",
       "      <th>Volume</th>\n",
       "      <th>Adj Close</th>\n",
       "    </tr>\n",
       "  </thead>\n",
       "  <tbody>\n",
       "    <tr>\n",
       "      <th>count</th>\n",
       "      <td>255.000000</td>\n",
       "      <td>255.000000</td>\n",
       "      <td>255.000000</td>\n",
       "      <td>255.000000</td>\n",
       "      <td>2.550000e+02</td>\n",
       "      <td>255.000000</td>\n",
       "    </tr>\n",
       "    <tr>\n",
       "      <th>mean</th>\n",
       "      <td>96.478510</td>\n",
       "      <td>93.739696</td>\n",
       "      <td>95.088500</td>\n",
       "      <td>95.172951</td>\n",
       "      <td>1.573056e+08</td>\n",
       "      <td>94.867141</td>\n",
       "    </tr>\n",
       "    <tr>\n",
       "      <th>std</th>\n",
       "      <td>22.104170</td>\n",
       "      <td>21.583174</td>\n",
       "      <td>22.017850</td>\n",
       "      <td>21.812235</td>\n",
       "      <td>6.965382e+07</td>\n",
       "      <td>21.958024</td>\n",
       "    </tr>\n",
       "    <tr>\n",
       "      <th>min</th>\n",
       "      <td>57.125000</td>\n",
       "      <td>53.152500</td>\n",
       "      <td>57.020000</td>\n",
       "      <td>56.092499</td>\n",
       "      <td>4.669130e+07</td>\n",
       "      <td>55.744217</td>\n",
       "    </tr>\n",
       "    <tr>\n",
       "      <th>25%</th>\n",
       "      <td>77.774998</td>\n",
       "      <td>75.937500</td>\n",
       "      <td>76.610001</td>\n",
       "      <td>77.307503</td>\n",
       "      <td>1.107902e+08</td>\n",
       "      <td>76.685890</td>\n",
       "    </tr>\n",
       "    <tr>\n",
       "      <th>50%</th>\n",
       "      <td>92.617500</td>\n",
       "      <td>90.567497</td>\n",
       "      <td>91.250000</td>\n",
       "      <td>91.209999</td>\n",
       "      <td>1.380234e+08</td>\n",
       "      <td>90.889038</td>\n",
       "    </tr>\n",
       "    <tr>\n",
       "      <th>75%</th>\n",
       "      <td>117.270000</td>\n",
       "      <td>114.129997</td>\n",
       "      <td>115.866249</td>\n",
       "      <td>115.728748</td>\n",
       "      <td>1.865058e+08</td>\n",
       "      <td>115.529430</td>\n",
       "    </tr>\n",
       "    <tr>\n",
       "      <th>max</th>\n",
       "      <td>138.789993</td>\n",
       "      <td>134.339996</td>\n",
       "      <td>138.050003</td>\n",
       "      <td>136.690002</td>\n",
       "      <td>4.268848e+08</td>\n",
       "      <td>136.690002</td>\n",
       "    </tr>\n",
       "  </tbody>\n",
       "</table>\n",
       "</div>"
      ],
      "text/plain": [
       "             High         Low        Open       Close        Volume  \\\n",
       "count  255.000000  255.000000  255.000000  255.000000  2.550000e+02   \n",
       "mean    96.478510   93.739696   95.088500   95.172951  1.573056e+08   \n",
       "std     22.104170   21.583174   22.017850   21.812235  6.965382e+07   \n",
       "min     57.125000   53.152500   57.020000   56.092499  4.669130e+07   \n",
       "25%     77.774998   75.937500   76.610001   77.307503  1.107902e+08   \n",
       "50%     92.617500   90.567497   91.250000   91.209999  1.380234e+08   \n",
       "75%    117.270000  114.129997  115.866249  115.728748  1.865058e+08   \n",
       "max    138.789993  134.339996  138.050003  136.690002  4.268848e+08   \n",
       "\n",
       "        Adj Close  \n",
       "count  255.000000  \n",
       "mean    94.867141  \n",
       "std     21.958024  \n",
       "min     55.744217  \n",
       "25%     76.685890  \n",
       "50%     90.889038  \n",
       "75%    115.529430  \n",
       "max    136.690002  "
      ]
     },
     "execution_count": 95,
     "metadata": {},
     "output_type": "execute_result"
    }
   ],
   "source": [
    "tesla = data.DataReader(kangyuanDict[\"特斯拉\"],\"yahoo\",start_date,end_date)\n",
    "dg = data.DataReader(kangyuanDict[\"达乐\"],\"yahoo\",start_date,end_date)\n",
    "aapl = data.DataReader(kangyuanDict[\"苹果\"],\"yahoo\",start_date,end_date)\n",
    "aapl.describe()"
   ]
  },
  {
   "cell_type": "code",
   "execution_count": 106,
   "metadata": {},
   "outputs": [],
   "source": [
    "import matplotlib.pyplot as plt"
   ]
  },
  {
   "cell_type": "code",
   "execution_count": 98,
   "metadata": {},
   "outputs": [
    {
     "data": {
      "image/png": "[encoded data removed]",
      "text/plain": [
       "<Figure size 432x288 with 1 Axes>"
      ]
     },
     "metadata": {
      "needs_background": "light"
     },
     "output_type": "display_data"
    }
   ],
   "source": [
    "plt.plot(tesla[\"Close\"],label=\"tesla\",color=\"blue\")\n",
    "plt.plot(dg[\"Close\"],label=\"dg\",color=\"red\")\n",
    "plt.plot(aapl[\"Close\"],label=\"dg\",color=\"yellow\")\n",
    "\n",
    "plt.title(\"3 stocks\")\n",
    "plt.show()"
   ]
  },
  {
   "cell_type": "code",
   "execution_count": 100,
   "metadata": {},
   "outputs": [
    {
     "data": {
      "text/html": [
       "<div>\n",
       "<style scoped>\n",
       "    .dataframe tbody tr th:only-of-type {\n",
       "        vertical-align: middle;\n",
       "    }\n",
       "\n",
       "    .dataframe tbody tr th {\n",
       "        vertical-align: top;\n",
       "    }\n",
       "\n",
       "    .dataframe thead th {\n",
       "        text-align: right;\n",
       "    }\n",
       "</style>\n",
       "<table border=\"1\" class=\"dataframe\">\n",
       "  <thead>\n",
       "    <tr style=\"text-align: right;\">\n",
       "      <th></th>\n",
       "      <th>High</th>\n",
       "      <th>Low</th>\n",
       "      <th>Open</th>\n",
       "      <th>Close</th>\n",
       "      <th>Volume</th>\n",
       "      <th>Adj Close</th>\n",
       "    </tr>\n",
       "    <tr>\n",
       "      <th>Date</th>\n",
       "      <th></th>\n",
       "      <th></th>\n",
       "      <th></th>\n",
       "      <th></th>\n",
       "      <th></th>\n",
       "      <th></th>\n",
       "    </tr>\n",
       "  </thead>\n",
       "  <tbody>\n",
       "    <tr>\n",
       "      <th>2019-12-30</th>\n",
       "      <td>73.172501</td>\n",
       "      <td>71.305000</td>\n",
       "      <td>72.364998</td>\n",
       "      <td>72.879997</td>\n",
       "      <td>144114400.0</td>\n",
       "      <td>72.255997</td>\n",
       "    </tr>\n",
       "    <tr>\n",
       "      <th>2019-12-31</th>\n",
       "      <td>73.419998</td>\n",
       "      <td>72.379997</td>\n",
       "      <td>72.482498</td>\n",
       "      <td>73.412498</td>\n",
       "      <td>100805600.0</td>\n",
       "      <td>72.783936</td>\n",
       "    </tr>\n",
       "    <tr>\n",
       "      <th>2020-01-02</th>\n",
       "      <td>75.150002</td>\n",
       "      <td>73.797501</td>\n",
       "      <td>74.059998</td>\n",
       "      <td>75.087502</td>\n",
       "      <td>135480400.0</td>\n",
       "      <td>74.444603</td>\n",
       "    </tr>\n",
       "    <tr>\n",
       "      <th>2020-01-03</th>\n",
       "      <td>75.144997</td>\n",
       "      <td>74.125000</td>\n",
       "      <td>74.287498</td>\n",
       "      <td>74.357498</td>\n",
       "      <td>146322800.0</td>\n",
       "      <td>73.720840</td>\n",
       "    </tr>\n",
       "    <tr>\n",
       "      <th>2020-01-06</th>\n",
       "      <td>74.989998</td>\n",
       "      <td>73.187500</td>\n",
       "      <td>73.447502</td>\n",
       "      <td>74.949997</td>\n",
       "      <td>118387200.0</td>\n",
       "      <td>74.308266</td>\n",
       "    </tr>\n",
       "  </tbody>\n",
       "</table>\n",
       "</div>"
      ],
      "text/plain": [
       "                 High        Low       Open      Close       Volume  Adj Close\n",
       "Date                                                                          \n",
       "2019-12-30  73.172501  71.305000  72.364998  72.879997  144114400.0  72.255997\n",
       "2019-12-31  73.419998  72.379997  72.482498  73.412498  100805600.0  72.783936\n",
       "2020-01-02  75.150002  73.797501  74.059998  75.087502  135480400.0  74.444603\n",
       "2020-01-03  75.144997  74.125000  74.287498  74.357498  146322800.0  73.720840\n",
       "2020-01-06  74.989998  73.187500  73.447502  74.949997  118387200.0  74.308266"
      ]
     },
     "execution_count": 100,
     "metadata": {},
     "output_type": "execute_result"
    }
   ],
   "source": [
    "aapl.head()"
   ]
  },
  {
   "cell_type": "code",
   "execution_count": 101,
   "metadata": {},
   "outputs": [],
   "source": [
    "'''\n",
    "定义函数：计算机股票涨跌幅 ＝（现在股价－买入价格）/买入价格\n",
    "输入参数：column 表示收盘价这一列数据\n",
    "返回涨跌幅\n",
    "'''\n",
    "\n",
    "def change(column):\n",
    "    # 买入价格 年初\n",
    "    buyPrice = column[0]\n",
    "    # 现在价格 年末\n",
    "    curPrice = column[len(tesla)-1]\n",
    "    changePrice = (curPrice - buyPrice)/buyPrice\n",
    "    # 判断股价变化\n",
    "    if changePrice > 0:\n",
    "        print('股票累计上涨=',changePrice)\n",
    "    elif changePrice == 0:\n",
    "        print('股票累计没有变化=',changePrice)\n",
    "    else:\n",
    "        print('股票累计下跌=', changePrice)\n",
    "    return changePrice"
   ]
  },
  {
   "cell_type": "code",
   "execution_count": 77,
   "metadata": {},
   "outputs": [
    {
     "name": "stdout",
     "output_type": "stream",
     "text": [
      "股票累计上涨= 9.610320636932082\n"
     ]
    },
    {
     "data": {
      "text/plain": [
       "9.610320636932082"
      ]
     },
     "execution_count": 77,
     "metadata": {},
     "output_type": "execute_result"
    }
   ],
   "source": [
    "tesladata = tesla[::-1]\n",
    "change(tesla[\"Close\"])"
   ]
  },
  {
   "cell_type": "code",
   "execution_count": 84,
   "metadata": {},
   "outputs": [
    {
     "name": "stdout",
     "output_type": "stream",
     "text": [
      "股票累计上涨= 0.3715283710673588\n"
     ]
    },
    {
     "data": {
      "text/plain": [
       "0.3715283710673588"
      ]
     },
     "execution_count": 84,
     "metadata": {},
     "output_type": "execute_result"
    }
   ],
   "source": [
    "dgdata = dg[::-1]\n",
    "change(dg[\"Close\"])"
   ]
  },
  {
   "cell_type": "code",
   "execution_count": 102,
   "metadata": {},
   "outputs": [
    {
     "name": "stdout",
     "output_type": "stream",
     "text": [
      "股票累计上涨= 0.8206642074919024\n"
     ]
    },
    {
     "data": {
      "text/plain": [
       "0.8206642074919024"
      ]
     },
     "execution_count": 102,
     "metadata": {},
     "output_type": "execute_result"
    }
   ],
   "source": [
    "aapldata = aapl[::-1]\n",
    "change(aapl[\"Close\"])"
   ]
  },
  {
   "cell_type": "code",
   "execution_count": null,
   "metadata": {},
   "outputs": [],
   "source": []
  }
 ],
 "metadata": {
  "kernelspec": {
   "display_name": "Python 3",
   "language": "python",
   "name": "python3"
  },
  "language_info": {
   "codemirror_mode": {
    "name": "ipython",
    "version": 3
   },
   "file_extension": ".py",
   "mimetype": "text/x-python",
   "name": "python",
   "nbconvert_exporter": "python",
   "pygments_lexer": "ipython3",
   "version": "3.8.5"
  }
 },
 "nbformat": 4,
 "nbformat_minor": 4
}
