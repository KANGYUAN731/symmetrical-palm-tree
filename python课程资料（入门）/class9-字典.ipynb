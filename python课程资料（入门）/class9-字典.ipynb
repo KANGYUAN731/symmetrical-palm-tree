{
 "cells": [
  {
   "cell_type": "markdown",
   "metadata": {},
   "source": []
  },
  {
   "cell_type": "code",
   "execution_count": 1,
   "metadata": {},
   "outputs": [
    {
     "name": "stdout",
     "output_type": "stream",
     "text": [
      "{'apple': 3, 'pen': 7, 'applepen': 10}\n",
      "{1: 'a', 2: 'd', 5: 'b'}\n",
      "{'a': 3.5, 1.2: 3, 1: 'aaa'}\n"
     ]
    }
   ],
   "source": [
    "a_list = [1,2,3,4,5]\n",
    "\n",
    "d = {'pen':7,'apple':3,'applepen':10} #Key:Value,键：值\n",
    "d2 = {1:'a',5:'b',2:'d'}\n",
    "d3 = {1.2:3,'a':3.5,1:'aaa'}\n",
    "\n",
    "print(d)\n",
    "print(d2)\n",
    "print(d3)"
   ]
  },
  {
   "cell_type": "code",
   "execution_count": 2,
   "metadata": {},
   "outputs": [
    {
     "name": "stdout",
     "output_type": "stream",
     "text": [
      "3\n"
     ]
    }
   ],
   "source": [
    "print(d['apple'])"
   ]
  },
  {
   "cell_type": "code",
   "execution_count": 3,
   "metadata": {},
   "outputs": [
    {
     "name": "stdout",
     "output_type": "stream",
     "text": [
      "d\n"
     ]
    }
   ],
   "source": [
    "print(d2[2])"
   ]
  },
  {
   "cell_type": "code",
   "execution_count": 4,
   "metadata": {},
   "outputs": [
    {
     "name": "stdout",
     "output_type": "stream",
     "text": [
      "3\n"
     ]
    }
   ],
   "source": [
    "print(d3[1.2])"
   ]
  },
  {
   "cell_type": "code",
   "execution_count": 5,
   "metadata": {},
   "outputs": [
    {
     "name": "stdout",
     "output_type": "stream",
     "text": [
      "{'a': [1, 2, 3, 4], 'c': {'bb': 2, 'aa': 1}, 'b': (1, 2, 3, 4)}\n"
     ]
    }
   ],
   "source": [
    "d4 = {'a':[1,2,3,4],'b':(1,2,3,4),'c':{'aa':1,'bb':2}}\n",
    "print(d4)"
   ]
  },
  {
   "cell_type": "code",
   "execution_count": 6,
   "metadata": {},
   "outputs": [
    {
     "name": "stdout",
     "output_type": "stream",
     "text": [
      "1\n"
     ]
    }
   ],
   "source": [
    "print(d4['c']['aa'])"
   ]
  },
  {
   "cell_type": "code",
   "execution_count": 7,
   "metadata": {},
   "outputs": [
    {
     "name": "stdout",
     "output_type": "stream",
     "text": [
      "{'apple': 3, 'pen': 10, 'applepen': 10}\n"
     ]
    }
   ],
   "source": [
    "d['pen'] = 10 #修改Key对应的Value\n",
    "print(d)"
   ]
  },
  {
   "cell_type": "code",
   "execution_count": 8,
   "metadata": {},
   "outputs": [
    {
     "name": "stdout",
     "output_type": "stream",
     "text": [
      "{'apple': 3, 'pineapple': 3, 'pen': 10, 'applepen': 10}\n"
     ]
    }
   ],
   "source": [
    "d['pineapple'] = 3 #新增一个key：value对，字典是没有顺序的容器\n",
    "print(d)"
   ]
  },
  {
   "cell_type": "code",
   "execution_count": 9,
   "metadata": {},
   "outputs": [
    {
     "name": "stdout",
     "output_type": "stream",
     "text": [
      "{'apple': 3, 'pen': 10, 'applepen': 10}\n"
     ]
    }
   ],
   "source": [
    "del d['pineapple'] #删除一个键值对\n",
    "print(d)"
   ]
  },
  {
   "cell_type": "code",
   "execution_count": 10,
   "metadata": {},
   "outputs": [
    {
     "name": "stdout",
     "output_type": "stream",
     "text": [
      "key: apple \t value: 3\n",
      "key: pen \t value: 10\n",
      "key: applepen \t value: 10\n"
     ]
    }
   ],
   "source": [
    "for key,value in d.items():#遍历整个字典的键值对\n",
    "    print('key:',key,'\\t','value:',value)"
   ]
  },
  {
   "cell_type": "code",
   "execution_count": 11,
   "metadata": {},
   "outputs": [
    {
     "name": "stdout",
     "output_type": "stream",
     "text": [
      "key: apple\n",
      "key: pen\n",
      "key: applepen\n"
     ]
    }
   ],
   "source": [
    "for key in d.keys():  #遍历整个字典的键\n",
    "    print('key:',key)"
   ]
  },
  {
   "cell_type": "code",
   "execution_count": 13,
   "metadata": {},
   "outputs": [
    {
     "name": "stdout",
     "output_type": "stream",
     "text": [
      "values: 3\n",
      "values: 10\n",
      "values: 10\n"
     ]
    }
   ],
   "source": [
    "for value in d.values(): #遍历整个字典的值\n",
    "    print('values:',value)"
   ]
  },
  {
   "cell_type": "code",
   "execution_count": 14,
   "metadata": {},
   "outputs": [
    {
     "name": "stdout",
     "output_type": "stream",
     "text": [
      "key: 1\n",
      "key: 2\n",
      "key: 5\n"
     ]
    }
   ],
   "source": [
    "for key in sorted(d2.keys()):\n",
    "    print('key:',key)"
   ]
  },
  {
   "cell_type": "code",
   "execution_count": null,
   "metadata": {
    "collapsed": true
   },
   "outputs": [],
   "source": []
  }
 ],
 "metadata": {
  "anaconda-cloud": {},
  "kernelspec": {
   "display_name": "Python 3",
   "language": "python",
   "name": "python3"
  },
  "language_info": {
   "codemirror_mode": {
    "name": "ipython",
    "version": 3
   },
   "file_extension": ".py",
   "mimetype": "text/x-python",
   "name": "python",
   "nbconvert_exporter": "python",
   "pygments_lexer": "ipython3",
   "version": "3.8.5"
  }
 },
 "nbformat": 4,
 "nbformat_minor": 1
}
