{
 "cells": [
  {
   "cell_type": "markdown",
   "metadata": {},
   "source": [
    "AI MOOC： **www.ai-xlab.com**  "
   ]
  },
  {
   "cell_type": "code",
   "execution_count": 2,
   "metadata": {},
   "outputs": [
    {
     "name": "stdout",
     "output_type": "stream",
     "text": [
      "Game start\n",
      "Please enter an integer from 1 to 100:ghig\n"
     ]
    },
    {
     "ename": "ValueError",
     "evalue": "invalid literal for int() with base 10: 'ghig'",
     "output_type": "error",
     "traceback": [
      "\u001b[0;31m---------------------------------------------------------------------------\u001b[0m",
      "\u001b[0;31mValueError\u001b[0m                                Traceback (most recent call last)",
      "\u001b[0;32m<ipython-input-2-27246b5b7519>\u001b[0m in \u001b[0;36m<module>\u001b[0;34m()\u001b[0m\n\u001b[1;32m      5\u001b[0m \u001b[1;33m\u001b[0m\u001b[0m\n\u001b[1;32m      6\u001b[0m \u001b[0mprint\u001b[0m\u001b[1;33m(\u001b[0m\u001b[1;34m'Game start'\u001b[0m\u001b[1;33m)\u001b[0m\u001b[1;33m\u001b[0m\u001b[0m\n\u001b[0;32m----> 7\u001b[0;31m \u001b[0mguess\u001b[0m \u001b[1;33m=\u001b[0m \u001b[0mint\u001b[0m\u001b[1;33m(\u001b[0m\u001b[0minput\u001b[0m\u001b[1;33m(\u001b[0m\u001b[1;34m'Please enter an integer from 1 to 100:'\u001b[0m\u001b[1;33m)\u001b[0m\u001b[1;33m)\u001b[0m\u001b[1;33m\u001b[0m\u001b[0m\n\u001b[0m\u001b[1;32m      8\u001b[0m \u001b[1;33m\u001b[0m\u001b[0m\n\u001b[1;32m      9\u001b[0m \u001b[1;32mwhile\u001b[0m \u001b[1;32mTrue\u001b[0m\u001b[1;33m:\u001b[0m\u001b[1;33m\u001b[0m\u001b[0m\n",
      "\u001b[0;31mValueError\u001b[0m: invalid literal for int() with base 10: 'ghig'"
     ]
    }
   ],
   "source": [
    "import random\n",
    "\n",
    "n = random.randint(1,100) #生成一个1-100的随机整数\n",
    "step = 0 #游戏的步数\n",
    "\n",
    "print('Game start')\n",
    "guess = int(input('Please enter an integer from 1 to 100:'))\n",
    "\n",
    "while True:\n",
    "    step+=1\n",
    "    print('step',step)\n",
    "    if guess<n :\n",
    "        print(guess,'is low')\n",
    "    elif guess>n:\n",
    "        print(guess,'is high')\n",
    "    else:\n",
    "        print('You win!')\n",
    "        break\n",
    "    guess = int(input('Please enter an integer from 1 to 100:'))\n",
    "    \n",
    "print('Game over')"
   ]
  },
  {
   "cell_type": "code",
   "execution_count": 6,
   "metadata": {},
   "outputs": [
    {
     "name": "stdout",
     "output_type": "stream",
     "text": [
      "Game start\n",
      "Please enter an integer from 1 to 100:50\n",
      "step 1\n",
      "50 is high\n",
      "Please enter an integer from 1 to 100:0\n",
      "step 2\n",
      "quit\n",
      "Game over\n"
     ]
    }
   ],
   "source": [
    "import random\n",
    "\n",
    "n = random.randint(1,100) #生成一个1-100的随机整数\n",
    "step = 0 #游戏的步数\n",
    "print('Game start')\n",
    "\n",
    "def get_number():\n",
    "    guess = input('Please enter an integer from 1 to 100:')\n",
    "    while True:\n",
    "        if guess.isdigit():#判断输入内容是否是数字\n",
    "            guess = int(guess)\n",
    "            return guess\n",
    "        else:\n",
    "            guess = input('Please enter an integer from 1 to 100:')\n",
    "\n",
    "guess = get_number()\n",
    "\n",
    "while True:\n",
    "    step+=1\n",
    "    print('step',step)\n",
    "    \n",
    "    if guess == 0:#退出游戏\n",
    "        print('quit')\n",
    "        break\n",
    "    \n",
    "    if guess<n :\n",
    "        print(guess,'is low')\n",
    "    elif guess>n:\n",
    "        print(guess,'is high')\n",
    "    else:\n",
    "        print('You win!')\n",
    "        break\n",
    "    guess = get_number()\n",
    "    \n",
    "print('Game over')"
   ]
  },
  {
   "cell_type": "code",
   "execution_count": 7,
   "metadata": {},
   "outputs": [
    {
     "name": "stdout",
     "output_type": "stream",
     "text": [
      "Game start\n",
      "Please enter an integer from 1 to 100:50\n",
      "step 1\n",
      "50 is low\n",
      "You can try 51 to 100\n",
      "Please enter an integer from 1 to 100:80\n",
      "step 2\n",
      "80 is high\n",
      "You can try 51 to 79\n",
      "Please enter an integer from 1 to 100:60\n",
      "step 3\n",
      "60 is high\n",
      "You can try 51 to 59\n",
      "Please enter an integer from 1 to 100:55\n",
      "step 4\n",
      "55 is high\n",
      "You can try 51 to 54\n",
      "Please enter an integer from 1 to 100:53\n",
      "step 5\n",
      "You win!\n",
      "Game over\n"
     ]
    }
   ],
   "source": [
    "import random\n",
    "\n",
    "n = random.randint(1,100) #生成一个1-100的随机整数\n",
    "step = 0 #游戏的步数\n",
    "high = 100\n",
    "low = 1\n",
    "print('Game start')\n",
    "\n",
    "def get_number():\n",
    "    guess = input('Please enter an integer from 1 to 100:')\n",
    "    while True:\n",
    "        if guess.isdigit():#判断输入内容是否是数字\n",
    "            guess = int(guess)\n",
    "            return guess\n",
    "        else:\n",
    "            guess = input('Please enter an integer from 1 to 100:')\n",
    "\n",
    "guess = get_number()\n",
    "\n",
    "while True:\n",
    "    step+=1\n",
    "    print('step',step)\n",
    "    \n",
    "    if guess == 0:#退出游戏\n",
    "        print('quit')\n",
    "        break\n",
    "    \n",
    "    if guess<n :\n",
    "        print(guess,'is low')\n",
    "        low = guess + 1\n",
    "    elif guess>n:\n",
    "        print(guess,'is high')\n",
    "        high = guess - 1\n",
    "    else:\n",
    "        print('You win!')\n",
    "        break\n",
    "    print('You can try',low,'to',high)\n",
    "    guess = get_number()\n",
    "    \n",
    "print('Game over')"
   ]
  },
  {
   "cell_type": "code",
   "execution_count": null,
   "metadata": {
    "collapsed": true
   },
   "outputs": [],
   "source": []
  }
 ],
 "metadata": {
  "kernelspec": {
   "display_name": "Python 3",
   "language": "python",
   "name": "python3"
  },
  "language_info": {
   "codemirror_mode": {
    "name": "ipython",
    "version": 3
   },
   "file_extension": ".py",
   "mimetype": "text/x-python",
   "name": "python",
   "nbconvert_exporter": "python",
   "pygments_lexer": "ipython3",
   "version": "3.6.5"
  }
 },
 "nbformat": 4,
 "nbformat_minor": 1
}
