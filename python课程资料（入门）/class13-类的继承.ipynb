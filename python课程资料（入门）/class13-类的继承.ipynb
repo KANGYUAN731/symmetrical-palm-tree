{
 "cells": [
  {
   "cell_type": "markdown",
   "metadata": {},
   "source": [
    "AI MOOC： **www.ai-xlab.com**  "
   ]
  },
  {
   "cell_type": "code",
   "execution_count": 1,
   "metadata": {
    "collapsed": true
   },
   "outputs": [],
   "source": [
    "class human:  #类\n",
    "    def __init__(self,name='someone',age=10):#创建对象时会执行\n",
    "        self.name = name\n",
    "        self.age = age\n",
    "        print('human init')\n",
    "        \n",
    "    #类的方法\n",
    "    def my_name(self):\n",
    "        print('my name is',self.name)\n",
    "    def my_age(self):\n",
    "        print('my age is',self.age)\n",
    "    def eat(self):\n",
    "        print('eat')\n",
    "    def think(self,a,b):\n",
    "        print(a+b)"
   ]
  },
  {
   "cell_type": "code",
   "execution_count": 2,
   "metadata": {
    "collapsed": true
   },
   "outputs": [],
   "source": [
    "class student(human):#子类继承父类\n",
    "    pass"
   ]
  },
  {
   "cell_type": "code",
   "execution_count": 3,
   "metadata": {},
   "outputs": [
    {
     "name": "stdout",
     "output_type": "stream",
     "text": [
      "human init\n"
     ]
    }
   ],
   "source": [
    "stu1 = student()"
   ]
  },
  {
   "cell_type": "code",
   "execution_count": 4,
   "metadata": {},
   "outputs": [
    {
     "name": "stdout",
     "output_type": "stream",
     "text": [
      "my age is 10\n"
     ]
    }
   ],
   "source": [
    "stu1.my_age()"
   ]
  },
  {
   "cell_type": "code",
   "execution_count": 6,
   "metadata": {},
   "outputs": [],
   "source": [
    "class student(human):#子类继承父类\n",
    "    def __init__(self,grade=1,school='MIT'):\n",
    "        super().__init__() #父类的初始化\n",
    "        self.grade = grade\n",
    "        self.school = school\n",
    "        self.scroe = 100\n",
    "        print('student init')\n",
    "        \n",
    "    #添加子类自己的方法\n",
    "    def learn(self):\n",
    "        print('learning')\n",
    "    def my_school(self):\n",
    "        print('my school is',self.school)"
   ]
  },
  {
   "cell_type": "code",
   "execution_count": 7,
   "metadata": {},
   "outputs": [
    {
     "name": "stdout",
     "output_type": "stream",
     "text": [
      "human init\n",
      "student init\n"
     ]
    }
   ],
   "source": [
    "stu2 = student(4)"
   ]
  },
  {
   "cell_type": "code",
   "execution_count": 8,
   "metadata": {},
   "outputs": [
    {
     "name": "stdout",
     "output_type": "stream",
     "text": [
      "my age is 10\n"
     ]
    }
   ],
   "source": [
    "stu2.my_age()"
   ]
  },
  {
   "cell_type": "code",
   "execution_count": 9,
   "metadata": {},
   "outputs": [
    {
     "name": "stdout",
     "output_type": "stream",
     "text": [
      "learning\n"
     ]
    }
   ],
   "source": [
    "stu2.learn()"
   ]
  },
  {
   "cell_type": "code",
   "execution_count": 10,
   "metadata": {},
   "outputs": [
    {
     "name": "stdout",
     "output_type": "stream",
     "text": [
      "my school is MIT\n"
     ]
    }
   ],
   "source": [
    "stu2.my_school()"
   ]
  },
  {
   "cell_type": "code",
   "execution_count": 11,
   "metadata": {
    "collapsed": true
   },
   "outputs": [],
   "source": [
    "class student(human):#子类继承父类\n",
    "    def __init__(self,grade=1,school='MIT'):\n",
    "        super().__init__() #父类的初始化\n",
    "        self.grade = grade\n",
    "        self.school = school\n",
    "        self.scroe = 100\n",
    "        print('student init')\n",
    "        \n",
    "    #添加子类自己的方法\n",
    "    def learn(self):\n",
    "        print('learning')\n",
    "    def my_school(self):\n",
    "        print('my school is',self.school)\n",
    "    #子类可以重写父类的方法\n",
    "    def think(self,a,b):\n",
    "        print(a*b)"
   ]
  },
  {
   "cell_type": "code",
   "execution_count": 12,
   "metadata": {},
   "outputs": [
    {
     "name": "stdout",
     "output_type": "stream",
     "text": [
      "human init\n",
      "student init\n"
     ]
    }
   ],
   "source": [
    "stu3 = student()"
   ]
  },
  {
   "cell_type": "code",
   "execution_count": 13,
   "metadata": {},
   "outputs": [
    {
     "name": "stdout",
     "output_type": "stream",
     "text": [
      "200\n"
     ]
    }
   ],
   "source": [
    "stu3.think(10,20)"
   ]
  },
  {
   "cell_type": "code",
   "execution_count": null,
   "metadata": {
    "collapsed": true
   },
   "outputs": [],
   "source": []
  }
 ],
 "metadata": {
  "anaconda-cloud": {},
  "kernelspec": {
   "display_name": "Python 3",
   "language": "python",
   "name": "python3"
  },
  "language_info": {
   "codemirror_mode": {
    "name": "ipython",
    "version": 3
   },
   "file_extension": ".py",
   "mimetype": "text/x-python",
   "name": "python",
   "nbconvert_exporter": "python",
   "pygments_lexer": "ipython3",
   "version": "3.8.5"
  }
 },
 "nbformat": 4,
 "nbformat_minor": 1
}
