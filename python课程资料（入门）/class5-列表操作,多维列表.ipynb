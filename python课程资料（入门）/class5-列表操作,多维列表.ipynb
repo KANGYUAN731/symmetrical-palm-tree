{
 "cells": [
  {
   "cell_type": "markdown",
   "metadata": {},
   "source": [
    "AI MOOC： **www.ai-xlab.com**  "
   ]
  },
  {
   "cell_type": "code",
   "execution_count": 1,
   "metadata": {},
   "outputs": [
    {
     "name": "stdout",
     "output_type": "stream",
     "text": [
      "[1, 2, 30, 30, 30, 4, 2]\n"
     ]
    }
   ],
   "source": [
    "a_list = [1,2,30,30,30,4,2]\n",
    "print(a_list)"
   ]
  },
  {
   "cell_type": "code",
   "execution_count": 2,
   "metadata": {},
   "outputs": [
    {
     "name": "stdout",
     "output_type": "stream",
     "text": [
      "[100, 2, 30, 30, 30, 4, 2]\n"
     ]
    }
   ],
   "source": [
    "a_list[0] = 100 #修改列表中第0个元素\n",
    "print(a_list) "
   ]
  },
  {
   "cell_type": "code",
   "execution_count": 3,
   "metadata": {},
   "outputs": [
    {
     "name": "stdout",
     "output_type": "stream",
     "text": [
      "[100, 2, 30, 30, 30, 4, 2, 200]\n"
     ]
    }
   ],
   "source": [
    "a_list.append(200) #在列表末尾添加一个元素\n",
    "print(a_list)"
   ]
  },
  {
   "cell_type": "code",
   "execution_count": 4,
   "metadata": {},
   "outputs": [
    {
     "name": "stdout",
     "output_type": "stream",
     "text": [
      "[100, 2, 300, 30, 30, 30, 4, 2, 200]\n"
     ]
    }
   ],
   "source": [
    "a_list.insert(2,300) #在列表中插入一个元素\n",
    "print(a_list)"
   ]
  },
  {
   "cell_type": "code",
   "execution_count": 5,
   "metadata": {},
   "outputs": [
    {
     "name": "stdout",
     "output_type": "stream",
     "text": [
      "[100, 2, 30, 30, 30, 4, 2, 200]\n"
     ]
    }
   ],
   "source": [
    "del a_list[2] #删除列表第2个元素\n",
    "print(a_list)"
   ]
  },
  {
   "cell_type": "code",
   "execution_count": 6,
   "metadata": {},
   "outputs": [
    {
     "name": "stdout",
     "output_type": "stream",
     "text": [
      "[100, 2, 30, 30, 4, 2, 200]\n"
     ]
    }
   ],
   "source": [
    "a_list.remove(30) #删除列表中的一个‘30’\n",
    "print(a_list)"
   ]
  },
  {
   "cell_type": "code",
   "execution_count": 7,
   "metadata": {},
   "outputs": [
    {
     "name": "stdout",
     "output_type": "stream",
     "text": [
      "200\n",
      "[100, 2, 30, 30, 4, 2]\n"
     ]
    }
   ],
   "source": [
    "a = a_list.pop()\n",
    "print(a)\n",
    "print(a_list)"
   ]
  },
  {
   "cell_type": "code",
   "execution_count": 8,
   "metadata": {},
   "outputs": [
    {
     "name": "stdout",
     "output_type": "stream",
     "text": [
      "[4, 5, 6]\n"
     ]
    }
   ],
   "source": [
    "b_list = [[1,2,3],\n",
    "          [4,5,6],\n",
    "          [7,8,9]]\n",
    "print(b_list[1])"
   ]
  },
  {
   "cell_type": "code",
   "execution_count": 9,
   "metadata": {},
   "outputs": [
    {
     "name": "stdout",
     "output_type": "stream",
     "text": [
      "8\n"
     ]
    }
   ],
   "source": [
    "print(b_list[2][1])"
   ]
  },
  {
   "cell_type": "code",
   "execution_count": null,
   "metadata": {
    "collapsed": true
   },
   "outputs": [],
   "source": []
  }
 ],
 "metadata": {
  "anaconda-cloud": {},
  "kernelspec": {
   "display_name": "Python 3",
   "language": "python",
   "name": "python3"
  },
  "language_info": {
   "codemirror_mode": {
    "name": "ipython",
    "version": 3
   },
   "file_extension": ".py",
   "mimetype": "text/x-python",
   "name": "python",
   "nbconvert_exporter": "python",
   "pygments_lexer": "ipython3",
   "version": "3.6.5"
  }
 },
 "nbformat": 4,
 "nbformat_minor": 1
}
