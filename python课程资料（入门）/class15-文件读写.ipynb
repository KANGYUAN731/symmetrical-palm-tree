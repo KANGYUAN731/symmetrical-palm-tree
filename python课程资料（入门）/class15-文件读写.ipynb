{
 "cells": [
  {
   "cell_type": "markdown",
   "metadata": {},
   "source": [
    "AI MOOC： **www.ai-xlab.com**  "
   ]
  },
  {
   "cell_type": "code",
   "execution_count": 1,
   "metadata": {},
   "outputs": [
    {
     "name": "stdout",
     "output_type": "stream",
     "text": [
      "Writing a text\n",
      "hello world\n"
     ]
    }
   ],
   "source": [
    "text = 'Writing a text\\nhello world'\n",
    "print(text)"
   ]
  },
  {
   "cell_type": "code",
   "execution_count": 2,
   "metadata": {
    "collapsed": true
   },
   "outputs": [],
   "source": [
    "my_file = open('file1.txt','w') #以写入的方式打开文件，如果文件不存在会创建该文件\n",
    "my_file.write(text)\n",
    "my_file.close()"
   ]
  },
  {
   "cell_type": "code",
   "execution_count": 4,
   "metadata": {
    "collapsed": true
   },
   "outputs": [],
   "source": [
    "with open('file2.txt','w') as f2:#清空文件，然后写入\n",
    "    f2.write('123123\\nhahaha')"
   ]
  },
  {
   "cell_type": "code",
   "execution_count": 5,
   "metadata": {
    "collapsed": true
   },
   "outputs": [],
   "source": [
    "with open('file2.txt','a') as f2: #在文件最后追加内容\n",
    "    f2.write(text)"
   ]
  },
  {
   "cell_type": "code",
   "execution_count": 6,
   "metadata": {},
   "outputs": [
    {
     "name": "stdout",
     "output_type": "stream",
     "text": [
      "123123\n",
      "hahahaWriting a text\n",
      "hello world\n"
     ]
    }
   ],
   "source": [
    "with open('file2.txt','r') as f2: #以读取的方式打开文件\n",
    "    content = f2.read()   #读取全部内容\n",
    "    print(content)"
   ]
  },
  {
   "cell_type": "code",
   "execution_count": 7,
   "metadata": {},
   "outputs": [
    {
     "name": "stdout",
     "output_type": "stream",
     "text": [
      "123123\n",
      "\n"
     ]
    }
   ],
   "source": [
    "with open('file2.txt','r') as f2:\n",
    "    content = f2.readline() #读取一行内容\n",
    "    print(content)"
   ]
  },
  {
   "cell_type": "code",
   "execution_count": 8,
   "metadata": {},
   "outputs": [
    {
     "name": "stdout",
     "output_type": "stream",
     "text": [
      "['123123\\n', 'hahahaWriting a text\\n', 'hello world']\n"
     ]
    }
   ],
   "source": [
    "with open('file2.txt','r') as f2:\n",
    "    content = f2.readlines() #读取所有行存放到一个列表中\n",
    "    print(content)"
   ]
  },
  {
   "cell_type": "code",
   "execution_count": 10,
   "metadata": {},
   "outputs": [
    {
     "name": "stdout",
     "output_type": "stream",
     "text": [
      "123123\n",
      "hahahaWriting a text\n",
      "hello world\n"
     ]
    }
   ],
   "source": [
    "filename = 'file2.txt'\n",
    "with open(filename) as f:\n",
    "    for line in f:\n",
    "        print(line.rstrip())"
   ]
  },
  {
   "cell_type": "code",
   "execution_count": null,
   "metadata": {
    "collapsed": true
   },
   "outputs": [],
   "source": []
  }
 ],
 "metadata": {
  "anaconda-cloud": {},
  "kernelspec": {
   "display_name": "Python 3",
   "language": "python",
   "name": "python3"
  },
  "language_info": {
   "codemirror_mode": {
    "name": "ipython",
    "version": 3
   },
   "file_extension": ".py",
   "mimetype": "text/x-python",
   "name": "python",
   "nbconvert_exporter": "python",
   "pygments_lexer": "ipython3",
   "version": "3.8.5"
  }
 },
 "nbformat": 4,
 "nbformat_minor": 1
}
