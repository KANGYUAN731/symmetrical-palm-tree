{
 "cells": [
  {
   "cell_type": "code",
   "execution_count": 9,
   "metadata": {},
   "outputs": [],
   "source": [
    "import numpy as np\n",
    "import matplotlib.pyplot as plt"
   ]
  },
  {
   "cell_type": "code",
   "execution_count": 13,
   "metadata": {},
   "outputs": [
    {
     "name": "stdout",
     "output_type": "stream",
     "text": [
      "[-0.21290606 -0.20539556  0.62011754 -0.056164    0.03068916  0.06258033]\n"
     ]
    }
   ],
   "source": [
    "#根据题意输入数据\n",
    "#导入输入非线性输入值x0²，x1x2，x1²\n",
    "X = np.array([[1,0,0,0,0,0],\n",
    "              [1,0,1,0,0,1],\n",
    "              [1,1,0,1,0,0],\n",
    "              [1,1,1,1,1,1]])\n",
    "#标签\n",
    "#针对异或输入标签\n",
    "Y = np.array([-1,1,1,-1])\n",
    "\n",
    "#权值取6个范围[-1,1]的随机数\n",
    "W = (np.random.random(6)-0.5)*2\n",
    "print(W)\n",
    "     \n",
    "#设置学习率\n",
    "lr = 0.11\n",
    "\n",
    "#迭代次数\n",
    "n = 0\n",
    "#神经网络输出,初始值设为0\n",
    "O = 0\n",
    "\n",
    "#权值更新的函数：\n",
    "#4行3列的X矩阵和3行1列的W矩阵相乘得到4行1列的矩阵\n",
    "#4行3列转置成3行4列的X矩阵和4行1列（Y-0）矩阵相乘得到3行1列的矩阵\n",
    "#X.shape[0]，由于X是4行3列的矩阵，shape.[0]相当于得到了行数\n",
    "#/int（X.shape[0]）相当于对于（X.T.dot(Y-0)）进行一个平均\n",
    "def update():\n",
    "    global X,Y,W,lr,n\n",
    "    n+=1\n",
    "    O = np.dot(X,W.T) # shape:(3,1)  #线性神经网络Y=X，此处唯一和感知器不一样的地方\n",
    "    W_C = lr*((Y-O.T).dot(X))/int(X.shape[0])\n",
    "    W = W + W_C"
   ]
  },
  {
   "cell_type": "markdown",
   "metadata": {},
   "source": [
    "### 自定义calculate函数的推导\n",
    " - x0w0+x1w1+x2w2+x1²w3+x1x2w4+x2²w5=0\n",
    " - 定义y=x2，x0位偏置值=1\n",
    " - 得：x0w0+x1w1+yw2+x1²w3+x1yw4+y²w5\n",
    " - 得：w5y²+y（w2+xw4）+w0+xw1+x²w3=0\n",
    " - 通过2元一次求解公式：y=[-b±根号（b²-4ac）]/2a\n",
    " - 得：a=w5，b=w2+xw4，c=w0+xw1+x²w3"
   ]
  },
  {
   "cell_type": "code",
   "execution_count": 27,
   "metadata": {},
   "outputs": [
    {
     "data": {
      "image/png": "[encoded data removed]",
      "text/plain": [
       "<Figure size 576x576 with 1 Axes>"
      ]
     },
     "metadata": {
      "needs_background": "light"
     },
     "output_type": "display_data"
    }
   ],
   "source": [
    "for i in range(100000):\n",
    "    update()#更新权值\n",
    "    \n",
    "#绘图在for循环里面，权值每改变一次就画一次图\n",
    "#正样本\n",
    "x1 = [0,1]\n",
    "y1 = [1,0]\n",
    "#负样本\n",
    "x2 = [0,1]\n",
    "y2 = [0,1]\n",
    "\n",
    "def calculate(x,root):\n",
    "    a = W[5]\n",
    "    b = W[2]+x*W[4]\n",
    "    c = W[0]+x*W[1]+x*x*W[3]\n",
    "    if root == 1:\n",
    "        return (-b+np.sqrt(b*b-4*a*c))/2*a\n",
    "    if root == 2:\n",
    "        return (-b-np.sqrt(b*b-4*a*c))/2*a\n",
    "    \n",
    "\n",
    "xdata = np.linspace(-1,5)\n",
    "\n",
    "plt.figure(figsize=(8,8))\n",
    "#修改绘图，输入函数以及函数的第1个根和第2个根\n",
    "plt.plot(xdata,calculate(xdata,1),'r')\n",
    "plt.plot(xdata,calculate(xdata,2),'r')\n",
    "\n",
    "plt.scatter(x1,y1,c='b')\n",
    "plt.scatter(x2,y2,c='y')\n",
    "plt.show()   \n"
   ]
  },
  {
   "cell_type": "markdown",
   "metadata": {},
   "source": [
    "### 对线性神经网络添加非线性输入，使等效的输入维度变大，从而解决异或问题"
   ]
  },
  {
   "cell_type": "code",
   "execution_count": 22,
   "metadata": {},
   "outputs": [
    {
     "name": "stdout",
     "output_type": "stream",
     "text": [
      "[-1.  1.  1. -1.]\n"
     ]
    }
   ],
   "source": [
    "O = np.dot(X,W.T)\n",
    "print(O)"
   ]
  },
  {
   "cell_type": "code",
   "execution_count": null,
   "metadata": {},
   "outputs": [],
   "source": []
  },
  {
   "cell_type": "code",
   "execution_count": null,
   "metadata": {},
   "outputs": [],
   "source": []
  }
 ],
 "metadata": {
  "kernelspec": {
   "display_name": "Python 3",
   "language": "python",
   "name": "python3"
  },
  "language_info": {
   "codemirror_mode": {
    "name": "ipython",
    "version": 3
   },
   "file_extension": ".py",
   "mimetype": "text/x-python",
   "name": "python",
   "nbconvert_exporter": "python",
   "pygments_lexer": "ipython3",
   "version": "3.8.5"
  }
 },
 "nbformat": 4,
 "nbformat_minor": 4
}
