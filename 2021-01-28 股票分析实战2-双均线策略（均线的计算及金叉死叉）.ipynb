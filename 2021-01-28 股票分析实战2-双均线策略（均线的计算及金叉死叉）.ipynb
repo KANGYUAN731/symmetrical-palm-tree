{
 "cells": [
  {
   "cell_type": "markdown",
   "metadata": {},
   "source": [
    "### 需求：双均线策略制定\n",
    " - 使用tushare包获取某股票的历史行情数据\n",
    " - 并切分数据"
   ]
  },
  {
   "cell_type": "code",
   "execution_count": 2,
   "metadata": {},
   "outputs": [],
   "source": [
    "import numpy as np\n",
    "import pandas as pd\n",
    "import matplotlib.pyplot as plt"
   ]
  },
  {
   "cell_type": "code",
   "execution_count": 3,
   "metadata": {},
   "outputs": [
    {
     "data": {
      "text/html": [
       "<div>\n",
       "<style scoped>\n",
       "    .dataframe tbody tr th:only-of-type {\n",
       "        vertical-align: middle;\n",
       "    }\n",
       "\n",
       "    .dataframe tbody tr th {\n",
       "        vertical-align: top;\n",
       "    }\n",
       "\n",
       "    .dataframe thead th {\n",
       "        text-align: right;\n",
       "    }\n",
       "</style>\n",
       "<table border=\"1\" class=\"dataframe\">\n",
       "  <thead>\n",
       "    <tr style=\"text-align: right;\">\n",
       "      <th></th>\n",
       "      <th>date</th>\n",
       "      <th>open</th>\n",
       "      <th>close</th>\n",
       "      <th>high</th>\n",
       "      <th>low</th>\n",
       "      <th>volume</th>\n",
       "      <th>code</th>\n",
       "    </tr>\n",
       "  </thead>\n",
       "  <tbody>\n",
       "    <tr>\n",
       "      <th>0</th>\n",
       "      <td>2001-08-27</td>\n",
       "      <td>5.392</td>\n",
       "      <td>5.554</td>\n",
       "      <td>5.902</td>\n",
       "      <td>5.132</td>\n",
       "      <td>406318.00</td>\n",
       "      <td>600519</td>\n",
       "    </tr>\n",
       "    <tr>\n",
       "      <th>1</th>\n",
       "      <td>2001-08-28</td>\n",
       "      <td>5.467</td>\n",
       "      <td>5.759</td>\n",
       "      <td>5.781</td>\n",
       "      <td>5.407</td>\n",
       "      <td>129647.79</td>\n",
       "      <td>600519</td>\n",
       "    </tr>\n",
       "    <tr>\n",
       "      <th>2</th>\n",
       "      <td>2001-08-29</td>\n",
       "      <td>5.777</td>\n",
       "      <td>5.684</td>\n",
       "      <td>5.781</td>\n",
       "      <td>5.640</td>\n",
       "      <td>53252.75</td>\n",
       "      <td>600519</td>\n",
       "    </tr>\n",
       "    <tr>\n",
       "      <th>3</th>\n",
       "      <td>2001-08-30</td>\n",
       "      <td>5.668</td>\n",
       "      <td>5.796</td>\n",
       "      <td>5.860</td>\n",
       "      <td>5.624</td>\n",
       "      <td>48013.06</td>\n",
       "      <td>600519</td>\n",
       "    </tr>\n",
       "    <tr>\n",
       "      <th>4</th>\n",
       "      <td>2001-08-31</td>\n",
       "      <td>5.804</td>\n",
       "      <td>5.782</td>\n",
       "      <td>5.877</td>\n",
       "      <td>5.749</td>\n",
       "      <td>23231.48</td>\n",
       "      <td>600519</td>\n",
       "    </tr>\n",
       "    <tr>\n",
       "      <th>...</th>\n",
       "      <td>...</td>\n",
       "      <td>...</td>\n",
       "      <td>...</td>\n",
       "      <td>...</td>\n",
       "      <td>...</td>\n",
       "      <td>...</td>\n",
       "      <td>...</td>\n",
       "    </tr>\n",
       "    <tr>\n",
       "      <th>4632</th>\n",
       "      <td>2021-01-19</td>\n",
       "      <td>2073.110</td>\n",
       "      <td>2009.410</td>\n",
       "      <td>2096.300</td>\n",
       "      <td>2006.850</td>\n",
       "      <td>46345.00</td>\n",
       "      <td>600519</td>\n",
       "    </tr>\n",
       "    <tr>\n",
       "      <th>4633</th>\n",
       "      <td>2021-01-20</td>\n",
       "      <td>2008.000</td>\n",
       "      <td>2040.630</td>\n",
       "      <td>2055.490</td>\n",
       "      <td>1982.500</td>\n",
       "      <td>45082.00</td>\n",
       "      <td>600519</td>\n",
       "    </tr>\n",
       "    <tr>\n",
       "      <th>4634</th>\n",
       "      <td>2021-01-21</td>\n",
       "      <td>2048.000</td>\n",
       "      <td>2070.000</td>\n",
       "      <td>2090.020</td>\n",
       "      <td>2041.000</td>\n",
       "      <td>38310.00</td>\n",
       "      <td>600519</td>\n",
       "    </tr>\n",
       "    <tr>\n",
       "      <th>4635</th>\n",
       "      <td>2021-01-22</td>\n",
       "      <td>2069.000</td>\n",
       "      <td>2079.950</td>\n",
       "      <td>2100.000</td>\n",
       "      <td>2060.100</td>\n",
       "      <td>29248.00</td>\n",
       "      <td>600519</td>\n",
       "    </tr>\n",
       "    <tr>\n",
       "      <th>4636</th>\n",
       "      <td>2021-01-25</td>\n",
       "      <td>2083.000</td>\n",
       "      <td>2175.000</td>\n",
       "      <td>2179.500</td>\n",
       "      <td>2083.000</td>\n",
       "      <td>55957.00</td>\n",
       "      <td>600519</td>\n",
       "    </tr>\n",
       "  </tbody>\n",
       "</table>\n",
       "<p>4637 rows × 7 columns</p>\n",
       "</div>"
      ],
      "text/plain": [
       "            date      open     close      high       low     volume    code\n",
       "0     2001-08-27     5.392     5.554     5.902     5.132  406318.00  600519\n",
       "1     2001-08-28     5.467     5.759     5.781     5.407  129647.79  600519\n",
       "2     2001-08-29     5.777     5.684     5.781     5.640   53252.75  600519\n",
       "3     2001-08-30     5.668     5.796     5.860     5.624   48013.06  600519\n",
       "4     2001-08-31     5.804     5.782     5.877     5.749   23231.48  600519\n",
       "...          ...       ...       ...       ...       ...        ...     ...\n",
       "4632  2021-01-19  2073.110  2009.410  2096.300  2006.850   46345.00  600519\n",
       "4633  2021-01-20  2008.000  2040.630  2055.490  1982.500   45082.00  600519\n",
       "4634  2021-01-21  2048.000  2070.000  2090.020  2041.000   38310.00  600519\n",
       "4635  2021-01-22  2069.000  2079.950  2100.000  2060.100   29248.00  600519\n",
       "4636  2021-01-25  2083.000  2175.000  2179.500  2083.000   55957.00  600519\n",
       "\n",
       "[4637 rows x 7 columns]"
      ]
     },
     "execution_count": 3,
     "metadata": {},
     "output_type": "execute_result"
    }
   ],
   "source": [
    "df = pd.read_csv('./maotai.csv').drop(labels = 'Unnamed: 0',axis=1)\n",
    "df"
   ]
  },
  {
   "cell_type": "code",
   "execution_count": 4,
   "metadata": {},
   "outputs": [],
   "source": [
    "df['date'] = pd.to_datetime(df['date'])"
   ]
  },
  {
   "cell_type": "code",
   "execution_count": 5,
   "metadata": {},
   "outputs": [
    {
     "data": {
      "text/html": [
       "<div>\n",
       "<style scoped>\n",
       "    .dataframe tbody tr th:only-of-type {\n",
       "        vertical-align: middle;\n",
       "    }\n",
       "\n",
       "    .dataframe tbody tr th {\n",
       "        vertical-align: top;\n",
       "    }\n",
       "\n",
       "    .dataframe thead th {\n",
       "        text-align: right;\n",
       "    }\n",
       "</style>\n",
       "<table border=\"1\" class=\"dataframe\">\n",
       "  <thead>\n",
       "    <tr style=\"text-align: right;\">\n",
       "      <th></th>\n",
       "      <th>open</th>\n",
       "      <th>close</th>\n",
       "      <th>high</th>\n",
       "      <th>low</th>\n",
       "      <th>volume</th>\n",
       "      <th>code</th>\n",
       "    </tr>\n",
       "    <tr>\n",
       "      <th>date</th>\n",
       "      <th></th>\n",
       "      <th></th>\n",
       "      <th></th>\n",
       "      <th></th>\n",
       "      <th></th>\n",
       "      <th></th>\n",
       "    </tr>\n",
       "  </thead>\n",
       "  <tbody>\n",
       "    <tr>\n",
       "      <th>2001-08-27</th>\n",
       "      <td>5.392</td>\n",
       "      <td>5.554</td>\n",
       "      <td>5.902</td>\n",
       "      <td>5.132</td>\n",
       "      <td>406318.00</td>\n",
       "      <td>600519</td>\n",
       "    </tr>\n",
       "    <tr>\n",
       "      <th>2001-08-28</th>\n",
       "      <td>5.467</td>\n",
       "      <td>5.759</td>\n",
       "      <td>5.781</td>\n",
       "      <td>5.407</td>\n",
       "      <td>129647.79</td>\n",
       "      <td>600519</td>\n",
       "    </tr>\n",
       "    <tr>\n",
       "      <th>2001-08-29</th>\n",
       "      <td>5.777</td>\n",
       "      <td>5.684</td>\n",
       "      <td>5.781</td>\n",
       "      <td>5.640</td>\n",
       "      <td>53252.75</td>\n",
       "      <td>600519</td>\n",
       "    </tr>\n",
       "    <tr>\n",
       "      <th>2001-08-30</th>\n",
       "      <td>5.668</td>\n",
       "      <td>5.796</td>\n",
       "      <td>5.860</td>\n",
       "      <td>5.624</td>\n",
       "      <td>48013.06</td>\n",
       "      <td>600519</td>\n",
       "    </tr>\n",
       "    <tr>\n",
       "      <th>2001-08-31</th>\n",
       "      <td>5.804</td>\n",
       "      <td>5.782</td>\n",
       "      <td>5.877</td>\n",
       "      <td>5.749</td>\n",
       "      <td>23231.48</td>\n",
       "      <td>600519</td>\n",
       "    </tr>\n",
       "    <tr>\n",
       "      <th>...</th>\n",
       "      <td>...</td>\n",
       "      <td>...</td>\n",
       "      <td>...</td>\n",
       "      <td>...</td>\n",
       "      <td>...</td>\n",
       "      <td>...</td>\n",
       "    </tr>\n",
       "    <tr>\n",
       "      <th>2021-01-19</th>\n",
       "      <td>2073.110</td>\n",
       "      <td>2009.410</td>\n",
       "      <td>2096.300</td>\n",
       "      <td>2006.850</td>\n",
       "      <td>46345.00</td>\n",
       "      <td>600519</td>\n",
       "    </tr>\n",
       "    <tr>\n",
       "      <th>2021-01-20</th>\n",
       "      <td>2008.000</td>\n",
       "      <td>2040.630</td>\n",
       "      <td>2055.490</td>\n",
       "      <td>1982.500</td>\n",
       "      <td>45082.00</td>\n",
       "      <td>600519</td>\n",
       "    </tr>\n",
       "    <tr>\n",
       "      <th>2021-01-21</th>\n",
       "      <td>2048.000</td>\n",
       "      <td>2070.000</td>\n",
       "      <td>2090.020</td>\n",
       "      <td>2041.000</td>\n",
       "      <td>38310.00</td>\n",
       "      <td>600519</td>\n",
       "    </tr>\n",
       "    <tr>\n",
       "      <th>2021-01-22</th>\n",
       "      <td>2069.000</td>\n",
       "      <td>2079.950</td>\n",
       "      <td>2100.000</td>\n",
       "      <td>2060.100</td>\n",
       "      <td>29248.00</td>\n",
       "      <td>600519</td>\n",
       "    </tr>\n",
       "    <tr>\n",
       "      <th>2021-01-25</th>\n",
       "      <td>2083.000</td>\n",
       "      <td>2175.000</td>\n",
       "      <td>2179.500</td>\n",
       "      <td>2083.000</td>\n",
       "      <td>55957.00</td>\n",
       "      <td>600519</td>\n",
       "    </tr>\n",
       "  </tbody>\n",
       "</table>\n",
       "<p>4637 rows × 6 columns</p>\n",
       "</div>"
      ],
      "text/plain": [
       "                open     close      high       low     volume    code\n",
       "date                                                                 \n",
       "2001-08-27     5.392     5.554     5.902     5.132  406318.00  600519\n",
       "2001-08-28     5.467     5.759     5.781     5.407  129647.79  600519\n",
       "2001-08-29     5.777     5.684     5.781     5.640   53252.75  600519\n",
       "2001-08-30     5.668     5.796     5.860     5.624   48013.06  600519\n",
       "2001-08-31     5.804     5.782     5.877     5.749   23231.48  600519\n",
       "...              ...       ...       ...       ...        ...     ...\n",
       "2021-01-19  2073.110  2009.410  2096.300  2006.850   46345.00  600519\n",
       "2021-01-20  2008.000  2040.630  2055.490  1982.500   45082.00  600519\n",
       "2021-01-21  2048.000  2070.000  2090.020  2041.000   38310.00  600519\n",
       "2021-01-22  2069.000  2079.950  2100.000  2060.100   29248.00  600519\n",
       "2021-01-25  2083.000  2175.000  2179.500  2083.000   55957.00  600519\n",
       "\n",
       "[4637 rows x 6 columns]"
      ]
     },
     "execution_count": 5,
     "metadata": {},
     "output_type": "execute_result"
    }
   ],
   "source": [
    "df.set_index('date',inplace=True)\n",
    "df"
   ]
  },
  {
   "cell_type": "code",
   "execution_count": 6,
   "metadata": {},
   "outputs": [
    {
     "name": "stdout",
     "output_type": "stream",
     "text": [
      "<class 'pandas.core.frame.DataFrame'>\n",
      "DatetimeIndex: 4637 entries, 2001-08-27 to 2021-01-25\n",
      "Data columns (total 6 columns):\n",
      " #   Column  Non-Null Count  Dtype  \n",
      "---  ------  --------------  -----  \n",
      " 0   open    4637 non-null   float64\n",
      " 1   close   4637 non-null   float64\n",
      " 2   high    4637 non-null   float64\n",
      " 3   low     4637 non-null   float64\n",
      " 4   volume  4637 non-null   float64\n",
      " 5   code    4637 non-null   int64  \n",
      "dtypes: float64(5), int64(1)\n",
      "memory usage: 253.6 KB\n"
     ]
    }
   ],
   "source": [
    "df.info()"
   ]
  },
  {
   "cell_type": "markdown",
   "metadata": {},
   "source": [
    " ### 计算该股票历史数据的5日均线和30日均线\n",
    "     - 什么是均线？\n",
    "         - 对于每一个交易日，都可以计算出前N天的移动平均值，然后将移动平均值连起来，成为一条线，叫做N日移动平均线。\n",
    "         -移动平均线常用有5天，10天，30天，60天，120天。\n",
    "         - 5天和10天的短线操作的参照指标，称作日均线指标\n",
    "         - 30天和60天是中期均线指标，称作季度均线指标\n",
    "         - 120天和240天是长期均线指标，称作年均线指标\n",
    " - 均线的计算方法：MA=（C1+C2+C3...Cn）/N  C：某日收盘价 N：移动平均周期（天数）\n",
    "     "
   ]
  },
  {
   "cell_type": "code",
   "execution_count": 7,
   "metadata": {},
   "outputs": [
    {
     "data": {
      "text/html": [
       "<div>\n",
       "<style scoped>\n",
       "    .dataframe tbody tr th:only-of-type {\n",
       "        vertical-align: middle;\n",
       "    }\n",
       "\n",
       "    .dataframe tbody tr th {\n",
       "        vertical-align: top;\n",
       "    }\n",
       "\n",
       "    .dataframe thead th {\n",
       "        text-align: right;\n",
       "    }\n",
       "</style>\n",
       "<table border=\"1\" class=\"dataframe\">\n",
       "  <thead>\n",
       "    <tr style=\"text-align: right;\">\n",
       "      <th></th>\n",
       "      <th>open</th>\n",
       "      <th>close</th>\n",
       "      <th>high</th>\n",
       "      <th>low</th>\n",
       "      <th>volume</th>\n",
       "      <th>code</th>\n",
       "    </tr>\n",
       "    <tr>\n",
       "      <th>date</th>\n",
       "      <th></th>\n",
       "      <th></th>\n",
       "      <th></th>\n",
       "      <th></th>\n",
       "      <th></th>\n",
       "      <th></th>\n",
       "    </tr>\n",
       "  </thead>\n",
       "  <tbody>\n",
       "    <tr>\n",
       "      <th>2001-08-27</th>\n",
       "      <td>5.392</td>\n",
       "      <td>5.554</td>\n",
       "      <td>5.902</td>\n",
       "      <td>5.132</td>\n",
       "      <td>406318.00</td>\n",
       "      <td>600519</td>\n",
       "    </tr>\n",
       "    <tr>\n",
       "      <th>2001-08-28</th>\n",
       "      <td>5.467</td>\n",
       "      <td>5.759</td>\n",
       "      <td>5.781</td>\n",
       "      <td>5.407</td>\n",
       "      <td>129647.79</td>\n",
       "      <td>600519</td>\n",
       "    </tr>\n",
       "    <tr>\n",
       "      <th>2001-08-29</th>\n",
       "      <td>5.777</td>\n",
       "      <td>5.684</td>\n",
       "      <td>5.781</td>\n",
       "      <td>5.640</td>\n",
       "      <td>53252.75</td>\n",
       "      <td>600519</td>\n",
       "    </tr>\n",
       "    <tr>\n",
       "      <th>2001-08-30</th>\n",
       "      <td>5.668</td>\n",
       "      <td>5.796</td>\n",
       "      <td>5.860</td>\n",
       "      <td>5.624</td>\n",
       "      <td>48013.06</td>\n",
       "      <td>600519</td>\n",
       "    </tr>\n",
       "    <tr>\n",
       "      <th>2001-08-31</th>\n",
       "      <td>5.804</td>\n",
       "      <td>5.782</td>\n",
       "      <td>5.877</td>\n",
       "      <td>5.749</td>\n",
       "      <td>23231.48</td>\n",
       "      <td>600519</td>\n",
       "    </tr>\n",
       "    <tr>\n",
       "      <th>...</th>\n",
       "      <td>...</td>\n",
       "      <td>...</td>\n",
       "      <td>...</td>\n",
       "      <td>...</td>\n",
       "      <td>...</td>\n",
       "      <td>...</td>\n",
       "    </tr>\n",
       "    <tr>\n",
       "      <th>2021-01-19</th>\n",
       "      <td>2073.110</td>\n",
       "      <td>2009.410</td>\n",
       "      <td>2096.300</td>\n",
       "      <td>2006.850</td>\n",
       "      <td>46345.00</td>\n",
       "      <td>600519</td>\n",
       "    </tr>\n",
       "    <tr>\n",
       "      <th>2021-01-20</th>\n",
       "      <td>2008.000</td>\n",
       "      <td>2040.630</td>\n",
       "      <td>2055.490</td>\n",
       "      <td>1982.500</td>\n",
       "      <td>45082.00</td>\n",
       "      <td>600519</td>\n",
       "    </tr>\n",
       "    <tr>\n",
       "      <th>2021-01-21</th>\n",
       "      <td>2048.000</td>\n",
       "      <td>2070.000</td>\n",
       "      <td>2090.020</td>\n",
       "      <td>2041.000</td>\n",
       "      <td>38310.00</td>\n",
       "      <td>600519</td>\n",
       "    </tr>\n",
       "    <tr>\n",
       "      <th>2021-01-22</th>\n",
       "      <td>2069.000</td>\n",
       "      <td>2079.950</td>\n",
       "      <td>2100.000</td>\n",
       "      <td>2060.100</td>\n",
       "      <td>29248.00</td>\n",
       "      <td>600519</td>\n",
       "    </tr>\n",
       "    <tr>\n",
       "      <th>2021-01-25</th>\n",
       "      <td>2083.000</td>\n",
       "      <td>2175.000</td>\n",
       "      <td>2179.500</td>\n",
       "      <td>2083.000</td>\n",
       "      <td>55957.00</td>\n",
       "      <td>600519</td>\n",
       "    </tr>\n",
       "  </tbody>\n",
       "</table>\n",
       "<p>4637 rows × 6 columns</p>\n",
       "</div>"
      ],
      "text/plain": [
       "                open     close      high       low     volume    code\n",
       "date                                                                 \n",
       "2001-08-27     5.392     5.554     5.902     5.132  406318.00  600519\n",
       "2001-08-28     5.467     5.759     5.781     5.407  129647.79  600519\n",
       "2001-08-29     5.777     5.684     5.781     5.640   53252.75  600519\n",
       "2001-08-30     5.668     5.796     5.860     5.624   48013.06  600519\n",
       "2001-08-31     5.804     5.782     5.877     5.749   23231.48  600519\n",
       "...              ...       ...       ...       ...        ...     ...\n",
       "2021-01-19  2073.110  2009.410  2096.300  2006.850   46345.00  600519\n",
       "2021-01-20  2008.000  2040.630  2055.490  1982.500   45082.00  600519\n",
       "2021-01-21  2048.000  2070.000  2090.020  2041.000   38310.00  600519\n",
       "2021-01-22  2069.000  2079.950  2100.000  2060.100   29248.00  600519\n",
       "2021-01-25  2083.000  2175.000  2179.500  2083.000   55957.00  600519\n",
       "\n",
       "[4637 rows x 6 columns]"
      ]
     },
     "execution_count": 7,
     "metadata": {},
     "output_type": "execute_result"
    }
   ],
   "source": [
    "df"
   ]
  },
  {
   "cell_type": "code",
   "execution_count": 8,
   "metadata": {},
   "outputs": [],
   "source": [
    "#rolling(5)函数：依次取1-5,2-6\n",
    "ma5 = df['close'].rolling(5).mean()\n",
    "#rolling(30)函数：依次取1-30,2-31\n",
    "ma30 = df['close'].rolling(30).mean()"
   ]
  },
  {
   "cell_type": "code",
   "execution_count": 9,
   "metadata": {},
   "outputs": [
    {
     "data": {
      "image/png": "[encoded data removed]",
      "text/plain": [
       "<Figure size 432x288 with 1 Axes>"
      ]
     },
     "metadata": {
      "needs_background": "light"
     },
     "output_type": "display_data"
    }
   ],
   "source": [
    "#5日均线=蓝线，30日均线=红线\n",
    "plt.plot(ma5)\n",
    "plt.plot(ma30,c='r')\n",
    "plt.show()"
   ]
  },
  {
   "cell_type": "code",
   "execution_count": 10,
   "metadata": {},
   "outputs": [
    {
     "data": {
      "image/png": "[encoded data removed]",
      "text/plain": [
       "<Figure size 432x288 with 1 Axes>"
      ]
     },
     "metadata": {
      "needs_background": "light"
     },
     "output_type": "display_data"
    }
   ],
   "source": [
    "#切分某一段，第50个均线到第180个均线\n",
    "plt.plot(ma5[50:180])\n",
    "plt.plot(ma30[50:180],c='r')\n",
    "plt.show()"
   ]
  },
  {
   "cell_type": "markdown",
   "metadata": {},
   "source": [
    "### 分析输出所有金叉日期和死叉日期\n",
    " - 股票分析技术中的金叉和死叉\n",
    "  - 分析指标中的两根线，一根为短线时间内的指标线，另一根为较长时间的指标线\n",
    "  - 如果短时间的指标线方向拐头向上，并且穿过了较长时间的指标线，这种状态叫“金叉”；\n",
    "  - 如果短时间的指标线方向拐头向下，并且穿过了较长时间的指标线，这种状态叫“死叉”；\n",
    "  - 一般情况下，出现金叉后，操作趋向买入；死叉趋向卖出。\n",
    "  - “金叉”“死叉”仅为技术分析手段之一，需要配合其他指标进行使用才能增加准确率"
   ]
  },
  {
   "cell_type": "markdown",
   "metadata": {},
   "source": [
    " - 思路①：先找MA5和MA30的交点，此时MA5=MA30\n",
    " - 思路②：金叉：在交点前一日MA5＜MA30；在交点后一时点MA5＞MA30\n",
    " - 思路③：死叉：在交点前一日MA5＞MA30；在交点后一时点MA5＜MA30"
   ]
  },
  {
   "cell_type": "code",
   "execution_count": 11,
   "metadata": {},
   "outputs": [
    {
     "data": {
      "text/plain": [
       "date\n",
       "2001-08-27         NaN\n",
       "2001-08-28         NaN\n",
       "2001-08-29         NaN\n",
       "2001-08-30         NaN\n",
       "2001-08-31       5.715\n",
       "                ...   \n",
       "2021-01-19    2090.482\n",
       "2021-01-20    2065.808\n",
       "2021-01-21    2053.008\n",
       "2021-01-22    2052.598\n",
       "2021-01-25    2074.998\n",
       "Name: close, Length: 4637, dtype: float64"
      ]
     },
     "execution_count": 11,
     "metadata": {},
     "output_type": "execute_result"
    }
   ],
   "source": [
    "#ma30前30个值都是空值，所以从30开始切分\n",
    "#保证ma5和ma30的索引（日期）一致\n",
    "ma5"
   ]
  },
  {
   "cell_type": "code",
   "execution_count": 12,
   "metadata": {},
   "outputs": [
    {
     "data": {
      "text/plain": [
       "date\n",
       "2001-08-27            NaN\n",
       "2001-08-28            NaN\n",
       "2001-08-29            NaN\n",
       "2001-08-30            NaN\n",
       "2001-08-31            NaN\n",
       "                 ...     \n",
       "2021-01-19    1951.146667\n",
       "2021-01-20    1957.501000\n",
       "2021-01-21    1965.167667\n",
       "2021-01-22    1973.402667\n",
       "2021-01-25    1985.236000\n",
       "Name: close, Length: 4637, dtype: float64"
      ]
     },
     "execution_count": 12,
     "metadata": {},
     "output_type": "execute_result"
    }
   ],
   "source": [
    "ma30"
   ]
  },
  {
   "cell_type": "code",
   "execution_count": 13,
   "metadata": {},
   "outputs": [],
   "source": [
    "ma5 = ma5[30:]\n",
    "ma30= ma30[30:]"
   ]
  },
  {
   "cell_type": "code",
   "execution_count": 14,
   "metadata": {},
   "outputs": [],
   "source": [
    "s1 = ma5 < ma30\n",
    "s2 = ma5 > ma30"
   ]
  },
  {
   "cell_type": "code",
   "execution_count": 15,
   "metadata": {},
   "outputs": [
    {
     "data": {
      "text/plain": [
       "date\n",
       "2001-10-15     True\n",
       "2001-10-16     True\n",
       "2001-10-17     True\n",
       "2001-10-18     True\n",
       "2001-10-19     True\n",
       "              ...  \n",
       "2021-01-19    False\n",
       "2021-01-20    False\n",
       "2021-01-21    False\n",
       "2021-01-22    False\n",
       "2021-01-25    False\n",
       "Name: close, Length: 4607, dtype: bool"
      ]
     },
     "execution_count": 15,
     "metadata": {},
     "output_type": "execute_result"
    }
   ],
   "source": [
    "#返回布尔值\n",
    "s1"
   ]
  },
  {
   "cell_type": "markdown",
   "metadata": {},
   "source": [
    " - S1:T,T,F,F,T \n",
    " - S2：F,F,T,T,F\n",
    " - 根据金叉的定义金叉点的定义为左边MA5＜MA30，右边MA30＞MA5，得S1的T→F的那一段\n",
    " - 根据死叉的定义金叉点的定义为左边MA5＞MA30，右边MA30＜MA5，得S1的F→T的那一段\n",
    " - 寻找方法：将S2向右移动1位。S2.shift（1）→[] ,F,F,T,T,F\n",
    " - 重新排列：S1：T,T,F,F,T   S2：[],F,F,T,T,F\n",
    " - S1&S2 当T遇到F→F，F遇到F→F，F遇到T→F，T遇到T→T，整理FFTT，找到这段就找到了死叉\n",
    " - S1丨S2 当T遇到F→T，F遇到F→F，F遇到T→T，T遇到T→T，整理TFTT，找到这段就找到了金叉"
   ]
  },
  {
   "cell_type": "code",
   "execution_count": 16,
   "metadata": {},
   "outputs": [],
   "source": [
    "#判定死叉，返回布尔值给death_ex\n",
    "death_ex = s1 & s2.shift(1)\n",
    "#死叉对应的行数据并取出索引,df也要从30开始切分\n",
    "death_date = df[30:].loc[death_ex].index "
   ]
  },
  {
   "cell_type": "code",
   "execution_count": 17,
   "metadata": {},
   "outputs": [],
   "source": [
    "#判定金叉，返回布尔值给golden_ex\n",
    "#金叉对应的行数据并取出索引,df也要从30开始切分\n",
    "golden_ex = -(s1 | s2.shift(1))\n",
    "golden_date = df[30:].loc[golden_ex].index"
   ]
  },
  {
   "cell_type": "markdown",
   "metadata": {},
   "source": [
    "### 如果从2010年1月1日开始，初始资金为100000元，金叉尽量买入，死叉全部卖出，求炒股收益\n",
    " - 购买股票的时候，1手股票起买，初始资金会有余数\n",
    " - 分析\n",
    "     - 买卖股票的单价使用开盘价\n",
    "     - 买股票的时机（金叉），卖股票的时机（死叉）\n",
    "     - 需要判定最终手里会有剩余的股票没有卖出去\n",
    "         - 当最后一天为金叉，则买入股票，卖出不来股票\n",
    "         - 估量剩余股票的的价值计算到总收益\n",
    "         - 剩余股票的单价=最后一天的收盘价。"
   ]
  },
  {
   "cell_type": "code",
   "execution_count": 18,
   "metadata": {},
   "outputs": [],
   "source": [
    "s1 = pd.Series(data=1,index=golden_date) #用1作为金叉的标识\n",
    "s2 = pd.Series(data=0,index=death_date) \n",
    "s = s1.append(s2)\n",
    "s = s.sort_index() #存储金叉和死叉的时间并按时间排序 "
   ]
  },
  {
   "cell_type": "code",
   "execution_count": 19,
   "metadata": {},
   "outputs": [
    {
     "data": {
      "text/plain": [
       "date\n",
       "2010-01-20    1\n",
       "2010-01-22    0\n",
       "2010-02-03    1\n",
       "2010-02-26    0\n",
       "2010-06-04    1\n",
       "             ..\n",
       "2020-08-19    1\n",
       "2020-09-21    0\n",
       "2020-10-14    1\n",
       "2020-10-27    0\n",
       "2020-11-05    1\n",
       "Length: 117, dtype: int64"
      ]
     },
     "execution_count": 19,
     "metadata": {},
     "output_type": "execute_result"
    }
   ],
   "source": [
    "s = s['2010':'2020']\n",
    "s"
   ]
  },
  {
   "cell_type": "code",
   "execution_count": 20,
   "metadata": {},
   "outputs": [
    {
     "data": {
      "text/plain": [
       "2459347.9999999995"
      ]
     },
     "execution_count": 20,
     "metadata": {},
     "output_type": "execute_result"
    }
   ],
   "source": [
    "first_money = 100000 #设定本金，不变\n",
    "money = first_money #设定可变量\n",
    "hold = 0 #持有股数\n",
    "\n",
    "for i in range(0,len(s)):\n",
    "    #i = 0(死叉：卖) = 1（金叉：买）\n",
    "    if s[i] == 1:\n",
    "        #基于100000的本金尽可能的买入\n",
    "        #获取股票的单价=p，金叉时对应行数据中的开盘价\n",
    "        time = s.index[i]\n",
    "        p = df.loc[time]['open']\n",
    "        hand_count = money // (p*100)  #使用100000最多买入多少手股票\n",
    "        hold = hand_count * 100\n",
    "        \n",
    "        money -= (hold * p)  #将买股票的钱从money中减去\n",
    "    else:\n",
    "        #将买入的股票卖出\n",
    "        \n",
    "        #卖出股票的单价\n",
    "        death_time = s.index[i]\n",
    "        p_death = df.loc[death_time]['open']\n",
    "        money += (p_death * hold)  #卖出的股票收入加入到money中\n",
    "        hold = 0\n",
    "\n",
    "#如何判定最后一天为金叉或死叉\n",
    "#直接判定hold是否=0就行了\n",
    "#hold * 最后一天的收盘价\n",
    "last_money = hold * df['close'][-1]\n",
    "\n",
    "#总收益\n",
    "money + last_money - first_money"
   ]
  },
  {
   "cell_type": "code",
   "execution_count": null,
   "metadata": {},
   "outputs": [],
   "source": []
  },
  {
   "cell_type": "code",
   "execution_count": null,
   "metadata": {},
   "outputs": [],
   "source": []
  }
 ],
 "metadata": {
  "kernelspec": {
   "display_name": "Python 3",
   "language": "python",
   "name": "python3"
  },
  "language_info": {
   "codemirror_mode": {
    "name": "ipython",
    "version": 3
   },
   "file_extension": ".py",
   "mimetype": "text/x-python",
   "name": "python",
   "nbconvert_exporter": "python",
   "pygments_lexer": "ipython3",
   "version": "3.8.5"
  }
 },
 "nbformat": 4,
 "nbformat_minor": 4
}
